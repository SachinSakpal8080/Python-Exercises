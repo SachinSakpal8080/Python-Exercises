{
 "cells": [
  {
   "cell_type": "markdown",
   "metadata": {},
   "source": [
    "## Chapter 1 Exercises (Getting Started)"
   ]
  },
  {
   "cell_type": "markdown",
   "metadata": {},
   "source": [
    "#### 1. Use several print statements to print out a triangle that looks exactly like the one below."
   ]
  },
  {
   "cell_type": "code",
   "execution_count": null,
   "metadata": {},
   "outputs": [],
   "source": [
    "* \n",
    "* * \n",
    "* * * \n",
    "* * * * "
   ]
  },
  {
   "cell_type": "code",
   "execution_count": 2,
   "metadata": {},
   "outputs": [
    {
     "name": "stdout",
     "output_type": "stream",
     "text": [
      "* \r\n",
      "* * \r\n",
      "* * * \r\n",
      "* * * * \r\n"
     ]
    }
   ],
   "source": [
    "def pypart(n): \n",
    "    for i in range(0, n):\n",
    "        for j in range(0, i+1):\n",
    "            print(\"* \",end=\"\") \n",
    "        print(\"\\r\") \n",
    "n = 4\n",
    "pypart(n) "
   ]
  },
  {
   "cell_type": "markdown",
   "metadata": {},
   "source": [
    "#### 2. Use several print statements to print out the letter A exactly like the one below."
   ]
  },
  {
   "cell_type": "code",
   "execution_count": null,
   "metadata": {},
   "outputs": [],
   "source": [
    "    *\n",
    "   * *\n",
    "  *****\n",
    " *     *\n",
    "*       *"
   ]
  },
  {
   "cell_type": "code",
   "execution_count": 3,
   "metadata": {},
   "outputs": [
    {
     "name": "stdout",
     "output_type": "stream",
     "text": [
      "    *\n",
      "   * *\n",
      "  *****\n",
      " *     *\n",
      "*       *\n"
     ]
    }
   ],
   "source": [
    "print('    *')\n",
    "print('   * *')\n",
    "print('  *****')\n",
    "print(' *     *')\n",
    "print('*       *')"
   ]
  },
  {
   "cell_type": "markdown",
   "metadata": {},
   "source": [
    "#### 3. Write a line of code that computes and prints out the result of the computation 14.12/33.144 - 187"
   ]
  },
  {
   "cell_type": "code",
   "execution_count": 4,
   "metadata": {},
   "outputs": [
    {
     "name": "stdout",
     "output_type": "stream",
     "text": [
      "-0.09190411813643927\n"
     ]
    }
   ],
   "source": [
    "print(14.14/(33.144-187))"
   ]
  },
  {
   "cell_type": "markdown",
   "metadata": {},
   "source": [
    "#### 4. Write a program that asks the user to enter a distance in kilometers and then prints out how far that distance is in miles. There are 0.621371 miles in one kilometer."
   ]
  },
  {
   "cell_type": "code",
   "execution_count": 5,
   "metadata": {},
   "outputs": [
    {
     "name": "stdout",
     "output_type": "stream",
     "text": [
      "Enter the distance in kilometers: 48\n",
      "29.825808000000002 miles\n"
     ]
    }
   ],
   "source": [
    "distance = input('Enter the distance in kilometers: ')\n",
    "transformed_distance_in_miles = 0.621371*int(distance)\n",
    "print(transformed_distance_in_miles, 'miles')"
   ]
  },
  {
   "cell_type": "markdown",
   "metadata": {},
   "source": [
    "#### 5. Write a program that asks the user to enter their name. Then print out the user’s name three times on the same line."
   ]
  },
  {
   "cell_type": "code",
   "execution_count": 6,
   "metadata": {},
   "outputs": [
    {
     "name": "stdout",
     "output_type": "stream",
     "text": [
      "Enter your name: Sachin \n",
      "Sachin Sachin Sachin \n"
     ]
    }
   ],
   "source": [
    "name = input('Enter your name: ')\n",
    "print(name*3)"
   ]
  },
  {
   "cell_type": "markdown",
   "metadata": {},
   "source": [
    "#### 6. Write a program that asks the user to enter two numbers (you’ll probably want to use separate input statements for that). Then print out the result of adding those two numbers."
   ]
  },
  {
   "cell_type": "code",
   "execution_count": 7,
   "metadata": {},
   "outputs": [
    {
     "name": "stdout",
     "output_type": "stream",
     "text": [
      "Enter the number 1: 45\n",
      "Enter the number 2: 87\n",
      "132\n"
     ]
    }
   ],
   "source": [
    "a = input('Enter the number 1: ')\n",
    "b = input('Enter the number 2: ')\n",
    "add = int(a) + int(b)\n",
    "print(add)"
   ]
  },
  {
   "cell_type": "markdown",
   "metadata": {},
   "source": [
    "#### 7. The Body Mass Index, BMI, is calculated as BMI = 703w / h^2 ; where w is the person’s weight in pounds and h is the person’s height in inches. Write a program that asks the user for their height their weight and prints out their BMI. \n",
    "[Note: one way to compute h2 is as h*h.]"
   ]
  },
  {
   "cell_type": "code",
   "execution_count": 8,
   "metadata": {},
   "outputs": [
    {
     "name": "stdout",
     "output_type": "stream",
     "text": [
      "Enter your weight in pound: 48\n",
      "Enter your height in inches: 78\n",
      "Your BMI is:  5.546351084812623\n"
     ]
    }
   ],
   "source": [
    "w = input('Enter your weight in pound: ')\n",
    "h = input('Enter your height in inches: ')\n",
    "BMI = 703*int(w)/int(h)**2\n",
    "\n",
    "print('Your BMI is: ', BMI)"
   ]
  },
  {
   "cell_type": "markdown",
   "metadata": {},
   "source": [
    "#### 8. Write a program that asks the user to enter five numbers (use five input statements). Then print out those numbers all on the same line, with each number separated from the others by exactly three spaces. Use the sep optional argument to the print statement to do this."
   ]
  },
  {
   "cell_type": "code",
   "execution_count": 9,
   "metadata": {},
   "outputs": [
    {
     "name": "stdout",
     "output_type": "stream",
     "text": [
      "Enter number 1: 1\n",
      "Enter number 2: 2\n",
      "Enter number 3: 3\n",
      "Enter number 4: 4\n",
      "Enter number 5: 5\n",
      "1     2     3     4     5\n"
     ]
    }
   ],
   "source": [
    "a = input('Enter number 1: ')\n",
    "b = input('Enter number 2: ')\n",
    "c = input('Enter number 3: ')\n",
    "d = input('Enter number 4: ')\n",
    "e = input('Enter number 5: ')\n",
    "\n",
    "print(a, '   ', b, '   ', c, '   ', d, '   ', e)"
   ]
  },
  {
   "cell_type": "markdown",
   "metadata": {},
   "source": [
    "#### 9. Write a program that asks the user to enter a number. Store that number in a variable. Add 2 to that number, store the result in the same variable, and then print out the value of that variable."
   ]
  },
  {
   "cell_type": "code",
   "execution_count": 10,
   "metadata": {},
   "outputs": [
    {
     "name": "stdout",
     "output_type": "stream",
     "text": [
      "Enter the number: 8\n",
      "10\n"
     ]
    }
   ],
   "source": [
    "a = input('Enter the number: ')\n",
    "a = int(a) + 2\n",
    "print(a)"
   ]
  },
  {
   "cell_type": "markdown",
   "metadata": {},
   "source": [
    "## Chapter 2 Exercises (For Loops)"
   ]
  },
  {
   "cell_type": "markdown",
   "metadata": {},
   "source": [
    "Note: The programs in this section print out a lot of stuff. By default, when multiple print statements\n",
    "are used, each one will print on a separate line. However, by adding an optional argument like end='' or\n",
    "end='', we can force things to stay on the same line. For instance, instead of print('Hello') we can use\n",
    "print('Hello',end=''). This will make the output of some of the programs easier to read and test. Note\n",
    "also that an empty print() statement will cancel out the effect of the end optional argument."
   ]
  },
  {
   "cell_type": "markdown",
   "metadata": {},
   "source": [
    "#### 1. Write a program that asks the user to enter a word and then prints that word 25 times (each on separate lines)."
   ]
  },
  {
   "cell_type": "code",
   "execution_count": 11,
   "metadata": {},
   "outputs": [
    {
     "name": "stdout",
     "output_type": "stream",
     "text": [
      "Enter the word: Sachin\n",
      "Sachin\n",
      "Sachin\n",
      "Sachin\n",
      "Sachin\n",
      "Sachin\n",
      "Sachin\n",
      "Sachin\n",
      "Sachin\n",
      "Sachin\n",
      "Sachin\n",
      "Sachin\n",
      "Sachin\n",
      "Sachin\n",
      "Sachin\n",
      "Sachin\n",
      "Sachin\n",
      "Sachin\n",
      "Sachin\n",
      "Sachin\n",
      "Sachin\n",
      "Sachin\n",
      "Sachin\n",
      "Sachin\n",
      "Sachin\n",
      "Sachin\n"
     ]
    }
   ],
   "source": [
    "a = input('Enter the word: ')\n",
    "b = 0\n",
    "while b<25:\n",
    "    print(a)\n",
    "    b = b + 1"
   ]
  },
  {
   "cell_type": "markdown",
   "metadata": {},
   "source": [
    "#### 2. Write a program that asks the user to enter a word and then prints that word 200 times, each on the same line."
   ]
  },
  {
   "cell_type": "code",
   "execution_count": 12,
   "metadata": {
    "scrolled": false
   },
   "outputs": [
    {
     "name": "stdout",
     "output_type": "stream",
     "text": [
      "Enter the word: na\n",
      "nananananananananananananananananananananananananananananananananananananananananananananananananananananananananananananananananananananananananananananananananananananananananananananananananananananananananananananananananananananananananananananananananananananananananananananananananananananananananananananananananananananananananananananananananananananananananananananananananananananananana\n"
     ]
    }
   ],
   "source": [
    "a = input('Enter the word: ')\n",
    "print(a*200)"
   ]
  },
  {
   "cell_type": "markdown",
   "metadata": {},
   "source": [
    "#### 3. Write a program that uses a for loop to print the numbers 5, 6, 7, 8, 9, . . . 89, 90, all on the same line separated by spaces."
   ]
  },
  {
   "cell_type": "code",
   "execution_count": 13,
   "metadata": {},
   "outputs": [
    {
     "name": "stdout",
     "output_type": "stream",
     "text": [
      "5, 6, 7, 8, 9, 10, 11, 12, 13, 14, 15, 16, 17, 18, 19, 20, 21, 22, 23, 24, 25, 26, 27, 28, 29, 30, 31, 32, 33, 34, 35, 36, 37, 38, 39, 40, 41, 42, 43, 44, 45, 46, 47, 48, 49, 50, 51, 52, 53, 54, 55, 56, 57, 58, 59, 60, 61, 62, 63, 64, 65, 66, 67, 68, 69, 70, 71, 72, 73, 74, 75, 76, 77, 78, 79, 80, 81, 82, 83, 84, 85, 86, 87, 88, 89, 90, "
     ]
    }
   ],
   "source": [
    "for i in range(5,91):\n",
    "    print(i, end=', ')"
   ]
  },
  {
   "cell_type": "markdown",
   "metadata": {},
   "source": [
    "#### 4. Write a program that uses a for loop to print 2, 6, 10, 14, 18, . . . , 98, 102, all on the same line separated by spaces."
   ]
  },
  {
   "cell_type": "code",
   "execution_count": 14,
   "metadata": {},
   "outputs": [
    {
     "name": "stdout",
     "output_type": "stream",
     "text": [
      "2, 4, 6, 8, 10, 12, 14, 16, 18, 20, 22, 24, 26, 28, 30, 32, 34, 36, 38, 40, 42, 44, 46, 48, 50, 52, 54, 56, 58, 60, 62, 64, 66, 68, 70, 72, 74, 76, 78, 80, 82, 84, 86, 88, 90, 92, 94, 96, 98, 100, 102, "
     ]
    }
   ],
   "source": [
    "for i in range(1,103):\n",
    "    if i%2 == 0:\n",
    "        print(i, end=', ')"
   ]
  },
  {
   "cell_type": "markdown",
   "metadata": {},
   "source": [
    "#### 5. Write a program that uses a for loop to print 29, 28, 27, 26, 26, . . . , 5, 4, all on the same line separated by spaces."
   ]
  },
  {
   "cell_type": "code",
   "execution_count": 15,
   "metadata": {},
   "outputs": [
    {
     "name": "stdout",
     "output_type": "stream",
     "text": [
      "29, 28, 27, 26, 25, 24, 23, 22, 21, 20, 19, 18, 17, 16, 15, 14, 13, 12, 11, 10, 9, 8, 7, 6, 5, 4, "
     ]
    }
   ],
   "source": [
    "for i in reversed(range(4, 30)):\n",
    "    print(i, end=', ')"
   ]
  },
  {
   "cell_type": "markdown",
   "metadata": {},
   "source": [
    "#### 6. Write a program that uses a for loop to print the output below:\n",
    "1. A  \n",
    "2. A  \n",
    "3. A  \n",
    "4. A  \n",
    "5. A  "
   ]
  },
  {
   "cell_type": "code",
   "execution_count": 16,
   "metadata": {},
   "outputs": [
    {
     "name": "stdout",
     "output_type": "stream",
     "text": [
      "1 . A\n",
      "2 . A\n",
      "3 . A\n",
      "4 . A\n",
      "5 . A\n"
     ]
    }
   ],
   "source": [
    "for i in range(1,6):\n",
    "    print(i,'. A',)"
   ]
  },
  {
   "cell_type": "markdown",
   "metadata": {},
   "source": [
    "#### 7. Write a program that uses a for loop to print out the first 20 perfect squares, all on the same line. The first few are 1, 4, 9, 16, 25, . . . "
   ]
  },
  {
   "cell_type": "code",
   "execution_count": 17,
   "metadata": {},
   "outputs": [
    {
     "name": "stdout",
     "output_type": "stream",
     "text": [
      "1, 4, 9, 16, 25, 36, 49, 64, 81, 100, 121, 144, 169, 196, 225, 256, 289, 324, 361, 400, "
     ]
    }
   ],
   "source": [
    "for i in range(1,401):\n",
    "    if (i**(.5) == int(i**(.5))): \n",
    "        print(i, end=', ')"
   ]
  },
  {
   "cell_type": "markdown",
   "metadata": {},
   "source": [
    "#### 8. Write a program that uses for loops to print out 40 A’s followed by 50 B’s, all on the same line."
   ]
  },
  {
   "cell_type": "code",
   "execution_count": 18,
   "metadata": {},
   "outputs": [
    {
     "name": "stdout",
     "output_type": "stream",
     "text": [
      "AAAAAAAAAAAAAAAAAAAAAAAAAAAAAAAAAAAAAAAA BBBBBBBBBBBBBBBBBBBBBBBBBBBBBBBBBBBBBBBBBBBBBBBBBB"
     ]
    }
   ],
   "source": [
    "a = 'A'\n",
    "b = 'B'\n",
    "print(a*40,b*50,end='')"
   ]
  },
  {
   "cell_type": "markdown",
   "metadata": {},
   "source": [
    "#### 9. Write a program that uses a for loop to print out ABCABCABC.. . , where ABC repeats 100 times. Print this all on the same line."
   ]
  },
  {
   "cell_type": "code",
   "execution_count": 19,
   "metadata": {},
   "outputs": [
    {
     "name": "stdout",
     "output_type": "stream",
     "text": [
      "ABCABCABCABCABCABCABCABCABCABCABCABCABCABCABCABCABCABCABCABCABCABCABCABCABCABCABCABCABCABCABCABCABCABCABCABCABCABCABCABCABCABCABCABCABCABCABCABCABCABCABCABCABCABCABCABCABCABCABCABCABCABCABCABCABCABCABCABCABCABCABCABCABCABCABCABCABCABCABCABCABCABCABCABCABCABCABCABCABCABCABCABCABCABCABCABCABCABCABCABC\n"
     ]
    }
   ],
   "source": [
    "a = 'ABC'\n",
    "print(a*100)"
   ]
  },
  {
   "cell_type": "markdown",
   "metadata": {},
   "source": [
    "#### 10. Write a program that asks the user to enter a number and then prints out the letter A that many times, all on the same line."
   ]
  },
  {
   "cell_type": "code",
   "execution_count": 21,
   "metadata": {},
   "outputs": [
    {
     "name": "stdout",
     "output_type": "stream",
     "text": [
      "Enter a number: 4\n",
      "AAAA\n"
     ]
    }
   ],
   "source": [
    "a = input('Enter a number: ')\n",
    "letter = 'A'\n",
    "print(letter*int(a))"
   ]
  },
  {
   "cell_type": "markdown",
   "metadata": {},
   "source": [
    "#### 12. Write a program that uses a loop and an input statement to ask the user to enter 10 numbers. After each number is entered, print out the square of that number."
   ]
  },
  {
   "cell_type": "code",
   "execution_count": 23,
   "metadata": {},
   "outputs": [
    {
     "name": "stdout",
     "output_type": "stream",
     "text": [
      "Enter a number: 1\n",
      "1\n",
      "Enter a number: 2\n",
      "4\n",
      "Enter a number: 3\n",
      "9\n",
      "Enter a number: 4\n",
      "16\n",
      "Enter a number: 56\n",
      "3136\n",
      "Enter a number: 6\n",
      "36\n",
      "Enter a number: 7\n",
      "49\n",
      "Enter a number: 8\n",
      "64\n",
      "Enter a number: 9\n",
      "81\n",
      "Enter a number: 10\n",
      "100\n"
     ]
    }
   ],
   "source": [
    "for i in range(1,11):\n",
    "    a = input('Enter a number: ')\n",
    "    print(int(a)**2)"
   ]
  },
  {
   "cell_type": "markdown",
   "metadata": {},
   "source": [
    "## Chapter 3 Exercises (Numbers)"
   ]
  },
  {
   "cell_type": "markdown",
   "metadata": {},
   "source": [
    "#### 1. Write a program that asks the user for two numbers x and y and then prints out the result of xy."
   ]
  },
  {
   "cell_type": "code",
   "execution_count": 24,
   "metadata": {},
   "outputs": [
    {
     "name": "stdout",
     "output_type": "stream",
     "text": [
      "Enter first number: 45\n",
      "Enter second number: 78\n",
      "3510\n"
     ]
    }
   ],
   "source": [
    "x = input('Enter first number: ')\n",
    "y = input('Enter second number: ')\n",
    "print(int(x)*int(y))"
   ]
  },
  {
   "cell_type": "markdown",
   "metadata": {},
   "source": [
    "#### 2. Write a program that does the following computation in Python: 9 + 3 / 8 - 2. The result should come out to 2. Be careful about order of operations."
   ]
  },
  {
   "cell_type": "code",
   "execution_count": 25,
   "metadata": {},
   "outputs": [
    {
     "name": "stdout",
     "output_type": "stream",
     "text": [
      "2.0\n"
     ]
    }
   ],
   "source": [
    "print((9+3)/(8-2))"
   ]
  },
  {
   "cell_type": "markdown",
   "metadata": {},
   "source": [
    "#### 3. Some board games require you to reduce the number of cards you are holding by half, rounded down. For instance, if you have 10 cards, you would reduce to 5 and if you had 11 cards you would also reduce to 5. With 12 cards you would reduce to 6. Write a program that asks the user to enter how many cards they have and print out what their hand would reduce to under this rule."
   ]
  },
  {
   "cell_type": "code",
   "execution_count": 26,
   "metadata": {},
   "outputs": [
    {
     "name": "stdout",
     "output_type": "stream",
     "text": [
      "Enter number of cards you have: 45\n",
      "Reduce your cards to:  22.0\n"
     ]
    }
   ],
   "source": [
    "a =  input('Enter number of cards you have: ')\n",
    "if int(a)%2 == 0:\n",
    "    print('Reduce your cards to: ', int(a)/2)\n",
    "else:\n",
    "    print('Reduce your cards to: ', (int(a)-1)/2)"
   ]
  },
  {
   "cell_type": "markdown",
   "metadata": {},
   "source": [
    "#### 4. The distance between two numbers on the number line is the absolute value of the difference of the two numbers. For instance, the distance between 3 and 7.2 is | 3 - 7:2 | = 4:2. Write a program that asks the user for two numbers and prints out the distance between them."
   ]
  },
  {
   "cell_type": "code",
   "execution_count": 27,
   "metadata": {},
   "outputs": [
    {
     "name": "stdout",
     "output_type": "stream",
     "text": [
      "Enter first number: 78\n",
      "Enter second number: 54\n",
      "Distance between 2 points is:  24.0\n"
     ]
    }
   ],
   "source": [
    "a = input('Enter first number: ')\n",
    "b = input('Enter second number: ')\n",
    "if float(a)<float(b):\n",
    "    print('Distance between 2 points is: ', float(b)-float(a))\n",
    "else:\n",
    "    print('Distance between 2 points is: ', float(a)-float(b))"
   ]
  },
  {
   "cell_type": "markdown",
   "metadata": {},
   "source": [
    "#### 5. Write a program that asks the user to enter a positive number and then prints out the square root of that number rounded to 2 decimal places."
   ]
  },
  {
   "cell_type": "code",
   "execution_count": 29,
   "metadata": {},
   "outputs": [
    {
     "name": "stdout",
     "output_type": "stream",
     "text": [
      "Enter number: 78\n",
      "Square root of number is:  8.83\n"
     ]
    }
   ],
   "source": [
    "import math\n",
    "a = input('Enter number: ')\n",
    "print('Square root of number is: ', round(math.sqrt(float(a)),2))"
   ]
  },
  {
   "cell_type": "markdown",
   "metadata": {},
   "source": [
    "#### 6. Write a program that prints out the numbers from 1 to 20 and their square roots, rounded to 4 decimal places, with the square root of the number being on the same line as the number."
   ]
  },
  {
   "cell_type": "code",
   "execution_count": 30,
   "metadata": {},
   "outputs": [
    {
     "name": "stdout",
     "output_type": "stream",
     "text": [
      "1 1.0\n",
      "2 1.4142\n",
      "3 1.7321\n",
      "4 2.0\n",
      "5 2.2361\n",
      "6 2.4495\n",
      "7 2.6458\n",
      "8 2.8284\n",
      "9 3.0\n",
      "10 3.1623\n",
      "11 3.3166\n",
      "12 3.4641\n",
      "13 3.6056\n",
      "14 3.7417\n",
      "15 3.873\n",
      "16 4.0\n",
      "17 4.1231\n",
      "18 4.2426\n",
      "19 4.3589\n",
      "20 4.4721\n"
     ]
    }
   ],
   "source": [
    "for i in range(1,21):\n",
    "    print(i, round(math.sqrt(i),4))"
   ]
  },
  {
   "cell_type": "markdown",
   "metadata": {},
   "source": [
    "#### 7. If you have a right triangle that is x units wide and y units tall, then using atan2(y,x) from the math module finds one of the triangle’s angles. It returns the result in radians. The degrees() function can convert the result to degrees. Write a program that asks the user to enter a width and a height and prints out the angle returned by atan2, but in degrees and rounded to one decimal place."
   ]
  },
  {
   "cell_type": "code",
   "execution_count": 31,
   "metadata": {},
   "outputs": [
    {
     "name": "stdout",
     "output_type": "stream",
     "text": [
      "Enter the tall: 45\n",
      "Enter the wide: 78\n",
      "0.52\n"
     ]
    }
   ],
   "source": [
    "height = int(input('Enter the tall: '))\n",
    "width = int(input('Enter the wide: '))\n",
    "triangles_angle = math.atan2(height, width)\n",
    "print(round(triangles_angle,2))"
   ]
  },
  {
   "cell_type": "markdown",
   "metadata": {},
   "source": [
    "#### 8. In 24-hour time, hours run from 0 o’clock (midnight) to 23 o’clock (aka 11 pm). Write a program that asks the user for the current hour and for how many hours in the future they want to go. Have the program print out what the hour will be that many hours in the future. For instance, if it’s 13 o’clock now, 27 hours from now it will be 16 o’clock. [Hint: Use the mod operator.]"
   ]
  },
  {
   "cell_type": "code",
   "execution_count": null,
   "metadata": {},
   "outputs": [],
   "source": []
  },
  {
   "cell_type": "markdown",
   "metadata": {},
   "source": [
    "#### 9. Write a program that asks the user for a height in inches and prints out how many feet and inches that is. There are 12 inches in one foot. For instance, 40 inches is 3 feet and 4 inches. [Hint: use the // operator and the % operator to get each part.]"
   ]
  },
  {
   "cell_type": "code",
   "execution_count": 32,
   "metadata": {},
   "outputs": [
    {
     "name": "stdout",
     "output_type": "stream",
     "text": [
      "Enter your height in inches: 47\n",
      "47 inches is  3.0 feet and  11.0 inches\n"
     ]
    }
   ],
   "source": [
    "height = input('Enter your height in inches: ')\n",
    "height_feet = float(height)//12\n",
    "height_inches = float(height)%12\n",
    "print(height, 'inches is ', height_feet, 'feet and ', height_inches, 'inches')"
   ]
  },
  {
   "cell_type": "markdown",
   "metadata": {},
   "source": [
    "#### 10. Write a program that generates two random numbers from 1 to 10, and prints out the two numbers and their sum."
   ]
  },
  {
   "cell_type": "code",
   "execution_count": 33,
   "metadata": {},
   "outputs": [
    {
     "name": "stdout",
     "output_type": "stream",
     "text": [
      "First random number:  2\n",
      "Second random number:  2\n",
      "Sum of 2 random numbers is  4\n"
     ]
    }
   ],
   "source": [
    "import random\n",
    "a = random.randint(1,10)\n",
    "b = random.randint(1,10)\n",
    "print('First random number: ', a)\n",
    "print('Second random number: ', b)\n",
    "addition = a + b\n",
    "print('Sum of 2 random numbers is ', addition)"
   ]
  },
  {
   "cell_type": "markdown",
   "metadata": {},
   "source": [
    "#### 11. Write a program that generates and prints 100 random numbers from 50 to 60, all on the same line, separated by spaces."
   ]
  },
  {
   "cell_type": "code",
   "execution_count": 34,
   "metadata": {},
   "outputs": [
    {
     "name": "stdout",
     "output_type": "stream",
     "text": [
      "[56, 60, 59, 55, 55, 53, 52, 56, 55, 54, 55, 58, 59, 55, 58, 51, 54, 55, 59, 51, 53, 53, 55, 59, 52, 52, 56, 52, 58, 58, 55, 53, 58, 52, 58, 53, 55, 52, 58, 54, 51, 58, 55, 50, 54, 53, 53, 52, 51, 58, 50, 53, 59, 60, 52, 52, 59, 51, 52, 51, 59, 53, 57, 54, 53, 56, 59, 55, 50, 59, 50, 53, 60, 53, 52, 58, 57, 50, 51, 59, 53, 53, 60, 53, 55, 56, 52, 52, 59, 54, 53, 55, 59, 51, 51, 60, 54, 53, 50, 56]\n"
     ]
    }
   ],
   "source": [
    "random_number_list = []\n",
    "for i in range(0,100):\n",
    "    n = random.randint(50,60)\n",
    "    random_number_list.append(n)\n",
    "print(random_number_list)"
   ]
  },
  {
   "cell_type": "markdown",
   "metadata": {},
   "source": [
    "#### 12. Write a program that asks the user to enter a letter. Then it generates a random number between 1 and 10 and prints out the letter that many times."
   ]
  },
  {
   "cell_type": "code",
   "execution_count": 35,
   "metadata": {},
   "outputs": [
    {
     "name": "stdout",
     "output_type": "stream",
     "text": [
      "Enter a letter: a\n",
      "aaaaaaa\n"
     ]
    }
   ],
   "source": [
    "letter = input('Enter a letter: ')\n",
    "n = random.randint(1, 10)\n",
    "print(letter*n)"
   ]
  },
  {
   "cell_type": "markdown",
   "metadata": {},
   "source": [
    "#### 13. Write a program that asks the user to enter a positive integer. Then generate a random number between that number and 10 more than that number and print the letter A that many times on the same line."
   ]
  },
  {
   "cell_type": "code",
   "execution_count": 37,
   "metadata": {},
   "outputs": [
    {
     "name": "stdout",
     "output_type": "stream",
     "text": [
      "Enter the number: 48\n",
      "AAAAAAAAAAAAAAAAAAAAA\n"
     ]
    }
   ],
   "source": [
    "integer = int(input('Enter the number: '))\n",
    "if integer<10:\n",
    "    n = random.randint(integer, 10)\n",
    "    print('A'*n)\n",
    "else:\n",
    "    n = random.randint(10, integer)\n",
    "    print('A'*n)"
   ]
  },
  {
   "cell_type": "markdown",
   "metadata": {},
   "source": [
    "## Chapter 4 Exercises (If Statements)"
   ]
  },
  {
   "cell_type": "markdown",
   "metadata": {},
   "source": [
    "#### 1. Write a program that asks the user to enter a programming language. If they enter python, then print out the message “This program was written in Python.” Otherwise nothing should happen (no else statement is necessary)."
   ]
  },
  {
   "cell_type": "code",
   "execution_count": 38,
   "metadata": {},
   "outputs": [
    {
     "name": "stdout",
     "output_type": "stream",
     "text": [
      "Enter a programming language: python\n",
      "This program was written in Python.\n"
     ]
    }
   ],
   "source": [
    "language = input('Enter a programming language: ')\n",
    "if language == 'python':\n",
    "    print('This program was written in Python.')"
   ]
  },
  {
   "cell_type": "markdown",
   "metadata": {},
   "source": [
    "#### 2. Write a program that asks the user to enter a number. If the number is negative, print out a message telling them they can’t enter a negative. Otherwise print out the square root of that number.\n"
   ]
  },
  {
   "cell_type": "code",
   "execution_count": 39,
   "metadata": {},
   "outputs": [
    {
     "name": "stdout",
     "output_type": "stream",
     "text": [
      "Enter a number: 4\n",
      "2.0\n"
     ]
    }
   ],
   "source": [
    "a = int(input('Enter a number: '))\n",
    "if a<0:\n",
    "    print(\"You can't enter a negative number\")\n",
    "else:\n",
    "    print(math.sqrt(a))"
   ]
  },
  {
   "cell_type": "markdown",
   "metadata": {},
   "source": [
    "#### 3. Ask the user to enter a temperature in Celsius. If the temperature is less than or equal to 0, print “Warning: Low temperature.” If the temperature is between 0 and 35, print ”Temperature is okay.” Otherwise, print out “Warning: High temperature.”\n"
   ]
  },
  {
   "cell_type": "code",
   "execution_count": 40,
   "metadata": {},
   "outputs": [
    {
     "name": "stdout",
     "output_type": "stream",
     "text": [
      "Enter a temperature: 78\n",
      "Warning: High temperature.\n"
     ]
    }
   ],
   "source": [
    "temp = int(input('Enter a temperature: '))\n",
    "if temp<0:\n",
    "    print('Warning: Low temperature.')\n",
    "elif 0<temp<35:\n",
    "    print('Temperature is okay.')\n",
    "else:\n",
    "    print('Warning: High temperature.')"
   ]
  },
  {
   "cell_type": "markdown",
   "metadata": {},
   "source": [
    "#### 4. Ask the user to enter a number of days. If the user enters 28 or 29, the program should print out ”Feb”. If they enter 30, the program should print out “Apr, Jun, Sep, Nov”. If they enter 31, the program should print out “Jan, Mar, May, Jul, Aug, Oct, Dec”. For any other entry, the program should print out “Error”."
   ]
  },
  {
   "cell_type": "code",
   "execution_count": 42,
   "metadata": {},
   "outputs": [
    {
     "name": "stdout",
     "output_type": "stream",
     "text": [
      "Enter the no. of dayas: 28\n",
      "Feb\n"
     ]
    }
   ],
   "source": [
    "number_of_days = int(input('Enter the no. of dayas: '))\n",
    "if number_of_days == 28 or number_of_days == 29:\n",
    "    print('Feb')\n",
    "elif number_of_days == 30:\n",
    "    print('Apr, Jun, Sep, Nov')\n",
    "elif number_of_days == 31:\n",
    "        print('Jan, Mar, May, Jul, Aug, Oct, Dec')\n",
    "else:\n",
    "    print('Error')"
   ]
  },
  {
   "cell_type": "markdown",
   "metadata": {},
   "source": [
    "#### 5. Ask the user for a length in feet. Then ask them which unit they want to convert to (inches, centimeters, or meters) and print out the converted value. There are 12 inches in a foot, 30.48 cm in a foot, and .3048 meters in a foot. If the unit chosen is not one of the above, then print out an error message.\n"
   ]
  },
  {
   "cell_type": "code",
   "execution_count": 43,
   "metadata": {},
   "outputs": [
    {
     "name": "stdout",
     "output_type": "stream",
     "text": [
      "Enter the height in feet: 6.5\n",
      "Enter the unit from (inches, centimeters, meters): meters\n",
      "Height in meters:  1.9812\n"
     ]
    }
   ],
   "source": [
    "height_feet = float(input('Enter the height in feet: '))\n",
    "conversion = input('Enter the unit from (inches, centimeters, meters): ')\n",
    "if conversion == 'inches':\n",
    "    print('Height in inches: ', height_feet*12)\n",
    "elif conversion == 'centimeters':\n",
    "    print('Height in centimeters: ', height_feet*30.48)\n",
    "elif conversion == 'meters':\n",
    "    print('Height in meters: ', height_feet*0.3048)\n",
    "else:\n",
    "    print('Error')"
   ]
  },
  {
   "cell_type": "markdown",
   "metadata": {},
   "source": [
    "#### 6. Ask the user to enter a number from 20 through 99. If the number is in the 20s, print out “veinte”, which is Spanish for twenty. If the number is in the 30s, print out “treinta”, Spanish for thirty. Do a similar thing for all the other ranges. The Spanish number names for 40 and beyond are cuarenta, cincuenta, sesenta, setenta, ochenta, and noventa. If the number is not in the range from 20 through 99, print out an error message.\n"
   ]
  },
  {
   "cell_type": "code",
   "execution_count": 44,
   "metadata": {},
   "outputs": [
    {
     "name": "stdout",
     "output_type": "stream",
     "text": [
      "Enter a number: 45\n",
      "cuarenta\n"
     ]
    }
   ],
   "source": [
    "a = float(input('Enter a number: '))\n",
    "if a<20 or a>99:\n",
    "    print('Error: Please enter number between 20 to 99')\n",
    "elif 19<a<30:\n",
    "    print('veinte')\n",
    "elif 29<a<40:\n",
    "    print('treinta')\n",
    "elif 39<a<50:\n",
    "    print('cuarenta')\n",
    "elif 49<a<60:\n",
    "    print('cincuenta')\n",
    "elif 59<a<70:\n",
    "    print('sesenta')\n",
    "elif 69<a<80:\n",
    "    print('setenta')\n",
    "elif 79<a<90:\n",
    "    print('ochenta')\n",
    "else:\n",
    "    print('noventa')"
   ]
  },
  {
   "cell_type": "markdown",
   "metadata": {},
   "source": [
    "#### 7. Write a program that asks the user to enter a number. If the number is not 0, 2, 5 or between 10 and 15 or between 20 and 25, then the word “Okay” should be printed. Otherwise, nothing should happen.\n"
   ]
  },
  {
   "cell_type": "code",
   "execution_count": 82,
   "metadata": {},
   "outputs": [
    {
     "name": "stdout",
     "output_type": "stream",
     "text": [
      "Enter a number: 5\n",
      "Okay\n"
     ]
    }
   ],
   "source": [
    "a = int(input('Enter a number: '))\n",
    "if a != 0:\n",
    "    print('Okay')\n",
    "elif a != 2:\n",
    "    print('Okay')\n",
    "elif a != 5:\n",
    "    print('Okay')\n",
    "elif 10 < a < 15:\n",
    "    print('Okay')\n",
    "elif 20 < a < 25:\n",
    "    print('Okay')"
   ]
  },
  {
   "cell_type": "markdown",
   "metadata": {},
   "source": [
    "#### 8. Mods are useful for telling if one number is divisible by another. Write a program that asks the user for a number and then prints out whether that number is divisible by 7."
   ]
  },
  {
   "cell_type": "code",
   "execution_count": 85,
   "metadata": {},
   "outputs": [
    {
     "name": "stdout",
     "output_type": "stream",
     "text": [
      "Enter a number: 4\n",
      "4 is not divisible by 7\n"
     ]
    }
   ],
   "source": [
    "a = int(input('Enter a number: '))\n",
    "if a % 7 == 0:\n",
    "    print(a, 'is divisible by 7')\n",
    "else:\n",
    "    print(a, 'is not divisible by 7')"
   ]
  },
  {
   "cell_type": "markdown",
   "metadata": {},
   "source": [
    "#### 9. Write a program that prints out all the numbers from 1 to 100 that are divisible by 3 or 7 but not divisible by both."
   ]
  },
  {
   "cell_type": "code",
   "execution_count": 45,
   "metadata": {},
   "outputs": [
    {
     "name": "stdout",
     "output_type": "stream",
     "text": [
      "[3, 6, 7, 9, 12, 14, 15, 18, 21, 24, 27, 28, 30, 33, 35, 36, 39, 42, 45, 48, 49, 51, 54, 56, 57, 60, 63, 66, 69, 70, 72, 75, 77, 78, 81, 84, 87, 90, 91, 93, 96, 98, 99]\n"
     ]
    }
   ],
   "source": [
    "num_div_3_and_7 = []\n",
    "for i in range(1,101):\n",
    "    if i%3 == 0 or i%7 == 0:\n",
    "        num_div_3_and_7.append(i)\n",
    "print(num_div_3_and_7)"
   ]
  },
  {
   "cell_type": "markdown",
   "metadata": {},
   "source": [
    "#### 10. Write a program that generates 100 random zeros and ones. Whenever a 0 is generated, the program should print out a question mark and whenever a 1 is generated an asterisk should be printed. Have everything be printed on the same line."
   ]
  },
  {
   "cell_type": "code",
   "execution_count": 70,
   "metadata": {
    "scrolled": false
   },
   "outputs": [
    {
     "name": "stdout",
     "output_type": "stream",
     "text": [
      "[0, 0, 1, 1, 1, 0, 0, 0, 1, 1, 1, 0, 1, 0, 1, 1, 1, 1, 0, 1, 0, 1, 1, 1, 0, 0, 1, 1, 1, 1, 1, 0, 1, 0, 1, 1, 0, 0, 1, 0, 1, 0, 0, 1, 1, 1, 0, 0, 1, 0, 1, 0, 0, 1, 1, 1, 0, 0, 1, 1, 0, 1, 0, 0, 1, 0, 0, 1, 0, 1, 1, 1, 0, 0, 1, 0, 1, 1, 1, 1, 0, 0, 1, 1, 0, 1, 0, 1, 0, 1, 1, 1, 1, 1, 0, 1, 1, 0, 1, 0]\n"
     ]
    }
   ],
   "source": [
    "import random\n",
    "a = []\n",
    "for i in range(0, 100):\n",
    "    b = random.randint(0, 1)\n",
    "    a.append(b)\n",
    "print(a)"
   ]
  },
  {
   "cell_type": "code",
   "execution_count": 71,
   "metadata": {},
   "outputs": [
    {
     "name": "stdout",
     "output_type": "stream",
     "text": [
      "0 ?, 0 ?, 1 !, 1 !, 1 !, 0 ?, 0 ?, 0 ?, 1 !, 1 !, 1 !, 0 ?, 1 !, 0 ?, 1 !, 1 !, 1 !, 1 !, 0 ?, 1 !, 0 ?, 1 !, 1 !, 1 !, 0 ?, 0 ?, 1 !, 1 !, 1 !, 1 !, 1 !, 0 ?, 1 !, 0 ?, 1 !, 1 !, 0 ?, 0 ?, 1 !, 0 ?, 1 !, 0 ?, 0 ?, 1 !, 1 !, 1 !, 0 ?, 0 ?, 1 !, 0 ?, 1 !, 0 ?, 0 ?, 1 !, 1 !, 1 !, 0 ?, 0 ?, 1 !, 1 !, 0 ?, 1 !, 0 ?, 0 ?, 1 !, 0 ?, 0 ?, 1 !, 0 ?, 1 !, 1 !, 1 !, 0 ?, 0 ?, 1 !, 0 ?, 1 !, 1 !, 1 !, 1 !, 0 ?, 0 ?, 1 !, 1 !, 0 ?, 1 !, 0 ?, 1 !, 0 ?, 1 !, 1 !, 1 !, 1 !, 1 !, 0 ?, 1 !, 1 !, 0 ?, 1 !, 0 ?, "
     ]
    }
   ],
   "source": [
    "for i in a:\n",
    "    if i == 0:\n",
    "            print(i, '?', end=', ')\n",
    "    else:\n",
    "            print(i, '!', end=', ')"
   ]
  },
  {
   "cell_type": "markdown",
   "metadata": {},
   "source": [
    "#### 11. Write a program that prints 100 random letters that can be either A, B, C, D, or E, all on the same line."
   ]
  },
  {
   "cell_type": "code",
   "execution_count": 76,
   "metadata": {},
   "outputs": [
    {
     "name": "stdout",
     "output_type": "stream",
     "text": [
      "['A', 'E', 'A', 'C', 'E', 'B', 'C', 'B', 'C', 'B', 'A', 'E', 'C', 'C', 'A', 'E', 'D', 'D', 'A', 'E', 'E', 'C', 'E', 'A', 'A', 'E', 'E', 'C', 'B', 'C', 'B', 'E', 'B', 'C', 'A', 'B', 'C', 'B', 'A', 'D', 'B', 'E', 'D', 'C', 'B', 'B', 'E', 'C', 'A', 'A', 'B', 'D', 'D', 'C', 'A', 'E', 'C', 'A', 'C', 'E', 'D', 'B', 'B', 'C', 'A', 'B', 'D', 'E', 'C', 'A', 'B', 'D', 'B', 'B', 'B', 'C', 'E', 'A', 'A', 'A', 'D', 'C', 'C', 'C', 'E', 'B', 'D', 'D', 'C', 'B', 'B', 'C', 'A', 'C', 'D', 'E', 'C', 'E', 'B', 'A']\n"
     ]
    }
   ],
   "source": [
    "LIST = []\n",
    "for i in range(0,100):\n",
    "    list1=['A', 'B', 'C', 'D', 'E']\n",
    "    b=random.randint(0,4)\n",
    "    LIST.append(list1[b])\n",
    "print(LIST)"
   ]
  },
  {
   "cell_type": "markdown",
   "metadata": {},
   "source": [
    "#### 12. Write a program that prints 100 random zeros and ones on the same line, but such that zeros are twices as likely as ones to appear."
   ]
  },
  {
   "cell_type": "code",
   "execution_count": 77,
   "metadata": {},
   "outputs": [
    {
     "name": "stdout",
     "output_type": "stream",
     "text": [
      "[0, 0, 1, 0, 0, 0, 1, 0, 1, 0, 1, 0, 1, 0, 1, 1, 1, 0, 1, 1, 1, 0, 1, 0, 1, 0, 1, 0, 1, 1, 1, 0, 1, 0, 1, 0, 1, 1, 1, 1, 1, 0, 1, 1, 1, 0, 0, 0, 0, 0, 0, 1, 1, 1, 1, 1, 0, 0, 1, 0, 1, 1, 0, 1, 1, 0, 1, 0, 1, 0, 1, 1, 0, 1, 1, 1, 1, 0, 0, 1, 0, 1, 0, 1, 0, 0, 0, 1, 1, 1, 1, 0, 0, 1, 1, 0, 0, 0, 0, 0]\n"
     ]
    }
   ],
   "source": [
    "a = []\n",
    "for i in range(0, 100):\n",
    "    b = random.randint(0, 1)\n",
    "    a.append(b)\n",
    "print(a)"
   ]
  },
  {
   "cell_type": "markdown",
   "metadata": {},
   "source": [
    "#### 13. This is a very simple billing program. Ask the user for a starting hour and ending hour, both given in 24-hour format (e.g., 1 pm is 13, 2 pm is 14, etc.). The charge to use the service is 5.50 per hour. Print out the user’s total bill. You can assume that the service will be used for at least 1 hour and never more than 23 hours. Be careful to take care of the case that the starting hour is before midnight and the ending time is after midnight."
   ]
  },
  {
   "cell_type": "code",
   "execution_count": 87,
   "metadata": {},
   "outputs": [
    {
     "name": "stdout",
     "output_type": "stream",
     "text": [
      "Enter a stating hour: 4\n",
      "Enter a ending hour: 35\n",
      "Error: Enter ending hour less than 23.\n",
      "Enter a ending hour: 22\n",
      "99.0\n"
     ]
    }
   ],
   "source": [
    "starting_hour = int(input('Enter a stating hour: '))\n",
    "ending_hour = int(input('Enter a ending hour: '))\n",
    "if ending_hour>23:\n",
    "    print('Error: Enter ending hour less than 23.')\n",
    "    ending_hour = int(input('Enter a ending hour: '))\n",
    "    service = ending_hour - starting_hour\n",
    "    bill = service*5.50\n",
    "    print(bill)"
   ]
  },
  {
   "cell_type": "markdown",
   "metadata": {},
   "source": [
    "#### 14. One way to solve math equations is by trial and error. Computers can help with that. The equation 21x^2 - x^3 + 21904 = 0 has an integer solution between 1 and 100. Use a for loop and an if statement to find it."
   ]
  },
  {
   "cell_type": "code",
   "execution_count": 89,
   "metadata": {},
   "outputs": [
    {
     "name": "stdout",
     "output_type": "stream",
     "text": [
      "37 is a solution.\n"
     ]
    }
   ],
   "source": [
    "for i in range(1, 101):\n",
    "    b = 21*((i)**2)-i**3+21904\n",
    "    if b == 0:\n",
    "        print(i, 'is a solution.')"
   ]
  },
  {
   "cell_type": "markdown",
   "metadata": {},
   "source": [
    "#### 15. Write a program to play the following game. The program should randomly generate 10 addition problems with three numbers ranging from 20 to 50 (for example 23+50+37). For each problem, the user guesses the answer. If they get the answer exactly right, print “Right!” If their answer is within 5 of the correct answer, print “Close!” Otherwise, print “Wrong.”"
   ]
  },
  {
   "cell_type": "code",
   "execution_count": 91,
   "metadata": {},
   "outputs": [
    {
     "name": "stdout",
     "output_type": "stream",
     "text": [
      "Enter your answer: 90\n",
      "Actual Ans:  107\n",
      "Wrong\n"
     ]
    }
   ],
   "source": [
    "a = random.randint(20, 50)\n",
    "b = random.randint(20, 50)\n",
    "c = random.randint(20, 50)\n",
    "d = a + b + c\n",
    "ans = int(input('Enter your answer: '))\n",
    "print('Actual Ans: ', d)\n",
    "if d == ans:\n",
    "    print(Right)\n",
    "elif (ans - 5) < d < (ans + 5):\n",
    "    print('Close')\n",
    "else:\n",
    "    print('Wrong')"
   ]
  },
  {
   "cell_type": "markdown",
   "metadata": {},
   "source": [
    "## Chapter 5 Exercises (Miscellaneous Topics I)"
   ]
  },
  {
   "cell_type": "markdown",
   "metadata": {},
   "source": [
    "#### 1. Write a program that generates 50 random numbers from 1 through 9. Print out all 50 numbers on the same line. Then print out how many fives are generated."
   ]
  },
  {
   "cell_type": "code",
   "execution_count": 98,
   "metadata": {},
   "outputs": [
    {
     "name": "stdout",
     "output_type": "stream",
     "text": [
      "[6, 6, 5, 6, 3, 7, 6, 3, 1, 8, 6, 8, 5, 1, 3, 1, 8, 3, 4, 3, 2, 7, 1, 7, 7, 8, 1, 2, 1, 2, 3, 9, 8, 8, 9, 8, 1, 3, 9, 8, 7, 4, 2, 3, 7, 9, 3, 6, 3, 6]\n",
      "Number of 5's are generated 2\n"
     ]
    }
   ],
   "source": [
    "LIST = []\n",
    "count = 0\n",
    "for i in range(0, 50):\n",
    "    a = random.randint(1, 9)\n",
    "    LIST.append(a)\n",
    "print(LIST)\n",
    "for i in LIST:\n",
    "    if i%5 == 0:\n",
    "        count = count+1\n",
    "print(\"Number of 5's are generated\", count)"
   ]
  },
  {
   "cell_type": "markdown",
   "metadata": {},
   "source": [
    "#### 2. Write a program that adds up all the numbers from 1 through 100 and prints the result."
   ]
  },
  {
   "cell_type": "code",
   "execution_count": 99,
   "metadata": {},
   "outputs": [
    {
     "name": "stdout",
     "output_type": "stream",
     "text": [
      "5050\n"
     ]
    }
   ],
   "source": [
    "a = 0\n",
    "for i in range(1, 101):\n",
    "    a = a + i\n",
    "print(a)"
   ]
  },
  {
   "cell_type": "markdown",
   "metadata": {},
   "source": [
    "#### 3. Write a program that adds up the sines (use the sin() function from the math module) of all the numbers from 1 through 100 and prints the result."
   ]
  },
  {
   "cell_type": "code",
   "execution_count": 102,
   "metadata": {},
   "outputs": [
    {
     "name": "stdout",
     "output_type": "stream",
     "text": [
      "-0.12717101366041972\n"
     ]
    }
   ],
   "source": [
    "import math\n",
    "ans = 0\n",
    "for i in range(1, 101):\n",
    "    a = math.sin(i)\n",
    "    ans = ans + a\n",
    "print(ans)"
   ]
  },
  {
   "cell_type": "markdown",
   "metadata": {},
   "source": [
    "#### 4. Write a program that adds up 1 + 3 + 5 + 7 + . . . + 999."
   ]
  },
  {
   "cell_type": "code",
   "execution_count": 114,
   "metadata": {},
   "outputs": [
    {
     "name": "stdout",
     "output_type": "stream",
     "text": [
      "250000\n"
     ]
    }
   ],
   "source": [
    "a = 0\n",
    "for i in range(1, 1000, 2):\n",
    "    a = a + i\n",
    "print(a)"
   ]
  },
  {
   "cell_type": "markdown",
   "metadata": {},
   "source": [
    "#### 5. Write a program that uses a loop to ask the user to enter 10 numbers. Print out how many numbers are positive and add up all the numbers."
   ]
  },
  {
   "cell_type": "code",
   "execution_count": 121,
   "metadata": {},
   "outputs": [
    {
     "name": "stdout",
     "output_type": "stream",
     "text": [
      "Enter a number: 5\n",
      "Enter a number: -4\n",
      "Enter a number: 4\n",
      "Enter a number: -1\n",
      "Enter a number: 9\n",
      "Enter a number: -4\n",
      "Enter a number: -8\n",
      "Enter a number: 10\n",
      "Enter a number: 15\n",
      "Enter a number: -2\n",
      "5\n",
      "24\n"
     ]
    }
   ],
   "source": [
    "count = 0\n",
    "ans = 0\n",
    "for i in range(10):\n",
    "    a = int(input('Enter a number: '))\n",
    "    ans = ans + a\n",
    "    if a<0:\n",
    "        count = count + 1\n",
    "print(count)\n",
    "print(ans)"
   ]
  },
  {
   "cell_type": "markdown",
   "metadata": {},
   "source": [
    "#### 6. Write a program that randomly generates 10 numbers from 1 to 5 and asks the user to guess each number. For each guess print out whether it is right or wrong. At the end, print out how many the user gets right and how many they get wrong."
   ]
  },
  {
   "cell_type": "code",
   "execution_count": 2,
   "metadata": {},
   "outputs": [
    {
     "name": "stdout",
     "output_type": "stream",
     "text": [
      "Guess the random number: 4\n",
      "Wrong\n",
      "Guess the random number: 4\n",
      "Wrong\n",
      "Guess the random number: 4\n",
      "Wrong\n",
      "Guess the random number: 4\n",
      "Wrong\n",
      "Guess the random number: 4\n",
      "Wrong\n",
      "Guess the random number: 4\n",
      "Wrong\n",
      "Guess the random number: 4\n",
      "Wrong\n",
      "Guess the random number: 4\n",
      "Wrong\n",
      "Guess the random number: 4\n",
      "Wrong\n",
      "Right Guesses:  0\n",
      "Wrong Guesses:  9\n"
     ]
    }
   ],
   "source": [
    "import random\n",
    "guess_right = 0\n",
    "guess_wrong = 0\n",
    "for i in range(1,10):\n",
    "    a = random.randint(1, 5)\n",
    "    b = int(input('Guess the random number: '))\n",
    "    if a == b:\n",
    "        guess_right = guess_right + 1\n",
    "        print('Right')\n",
    "    else:\n",
    "        guess_wrong = guess_wrong + 1\n",
    "        print('Wrong')\n",
    "print('Right Guesses: ', guess_right)\n",
    "print('Wrong Guesses: ', guess_wrong)"
   ]
  },
  {
   "cell_type": "markdown",
   "metadata": {},
   "source": [
    "#### 7. Write a program that randomly generates 10 numbers from 1 to 10 and asks the user to guess each number. For each guess print out whether it is right, wrong, or close (within in 1 of the right answer). Also keep score, where players score 5 for a correct guess, 2 for a close guess, and -1 for a wrong guess. Print the accumulated score after each guess."
   ]
  },
  {
   "cell_type": "code",
   "execution_count": 2,
   "metadata": {},
   "outputs": [
    {
     "name": "stdout",
     "output_type": "stream",
     "text": [
      "Guess the random number: 1\n",
      "Wrong\n",
      "Guess the random number: 4\n",
      "Wrong\n",
      "Guess the random number: 7\n",
      "Wrong\n",
      "Guess the random number: 6\n",
      "Right\n",
      "Guess the random number: 4\n",
      "Wrong\n",
      "Guess the random number: 8\n",
      "Wrong\n",
      "Guess the random number: 4\n",
      "Wrong\n",
      "Guess the random number: 5\n",
      "Wrong\n",
      "Guess the random number: 9\n",
      "Wrong\n",
      "Guess the random number: 4\n",
      "Wrong\n",
      "Score:  -4\n"
     ]
    }
   ],
   "source": [
    "import random\n",
    "guess_right = 0\n",
    "guess_wrong = 0\n",
    "for i in range(0,10):\n",
    "    a = random.randint(0, 10)\n",
    "    b = int(input('Guess the random number: '))\n",
    "    if a == b:\n",
    "        guess_right = guess_right + 5\n",
    "        print('Right')\n",
    "    elif a - 1 < b < a + 1:\n",
    "        guess_right = guess_right + 2\n",
    "        print('Close')\n",
    "    else:\n",
    "        guess_right = guess_right - 1\n",
    "        print('Wrong')\n",
    "print('Score: ', guess_right)"
   ]
  },
  {
   "cell_type": "code",
   "execution_count": null,
   "metadata": {},
   "outputs": [],
   "source": []
  }
 ],
 "metadata": {
  "kernelspec": {
   "display_name": "Python 3",
   "language": "python",
   "name": "python3"
  },
  "language_info": {
   "codemirror_mode": {
    "name": "ipython",
    "version": 3
   },
   "file_extension": ".py",
   "mimetype": "text/x-python",
   "name": "python",
   "nbconvert_exporter": "python",
   "pygments_lexer": "ipython3",
   "version": "3.7.4"
  }
 },
 "nbformat": 4,
 "nbformat_minor": 2
}
