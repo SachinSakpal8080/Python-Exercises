{
 "cells": [
  {
   "cell_type": "markdown",
   "metadata": {
    "colab_type": "text",
    "id": "icyqXlNK39aW"
   },
   "source": [
    "# Pandas Lab Exercise - Solutions\n",
    "\n",
    "\n",
    "## Part - 1\n",
    "We shall now test your skills in using Pandas package. We will be using the [games Dataset](https://www.kaggle.com/gutsyrobot/games-data/data) from Kaggle. \n",
    "\n",
    "Answer each question asked below wrt the games dataset."
   ]
  },
  {
   "cell_type": "markdown",
   "metadata": {
    "colab_type": "text",
    "id": "NN-M1l8_39aY"
   },
   "source": [
    "** Import pandas as pd.**"
   ]
  },
  {
   "cell_type": "code",
   "execution_count": 1,
   "metadata": {
    "colab": {},
    "colab_type": "code",
    "id": "24lNC-X439aZ"
   },
   "outputs": [],
   "source": [
    "import pandas as pd"
   ]
  },
  {
   "cell_type": "markdown",
   "metadata": {
    "colab_type": "text",
    "id": "q6qomEtr39ad"
   },
   "source": [
    "** Read games.csv as a dataframe called games.**"
   ]
  },
  {
   "cell_type": "code",
   "execution_count": 2,
   "metadata": {
    "colab": {},
    "colab_type": "code",
    "id": "R4gGNY5439ae"
   },
   "outputs": [],
   "source": [
    "data = pd.read_csv('games_visualization_using_python.csv')"
   ]
  },
  {
   "cell_type": "markdown",
   "metadata": {
    "colab_type": "text",
    "id": "fy6to3cp39ag"
   },
   "source": [
    "** Check the head of the DataFrame. **"
   ]
  },
  {
   "cell_type": "code",
   "execution_count": 4,
   "metadata": {
    "colab": {},
    "colab_type": "code",
    "id": "oSJXg99E39ah"
   },
   "outputs": [
    {
     "data": {
      "text/html": [
       "<div>\n",
       "<style scoped>\n",
       "    .dataframe tbody tr th:only-of-type {\n",
       "        vertical-align: middle;\n",
       "    }\n",
       "\n",
       "    .dataframe tbody tr th {\n",
       "        vertical-align: top;\n",
       "    }\n",
       "\n",
       "    .dataframe thead th {\n",
       "        text-align: right;\n",
       "    }\n",
       "</style>\n",
       "<table border=\"1\" class=\"dataframe\">\n",
       "  <thead>\n",
       "    <tr style=\"text-align: right;\">\n",
       "      <th></th>\n",
       "      <th>0</th>\n",
       "      <th>1</th>\n",
       "      <th>2</th>\n",
       "      <th>3</th>\n",
       "      <th>4</th>\n",
       "    </tr>\n",
       "  </thead>\n",
       "  <tbody>\n",
       "    <tr>\n",
       "      <td>id</td>\n",
       "      <td>12333</td>\n",
       "      <td>120677</td>\n",
       "      <td>102794</td>\n",
       "      <td>25613</td>\n",
       "      <td>3076</td>\n",
       "    </tr>\n",
       "    <tr>\n",
       "      <td>type</td>\n",
       "      <td>boardgame</td>\n",
       "      <td>boardgame</td>\n",
       "      <td>boardgame</td>\n",
       "      <td>boardgame</td>\n",
       "      <td>boardgame</td>\n",
       "    </tr>\n",
       "    <tr>\n",
       "      <td>name</td>\n",
       "      <td>Twilight Struggle</td>\n",
       "      <td>Terra Mystica</td>\n",
       "      <td>Caverna: The Cave Farmers</td>\n",
       "      <td>Through the Ages: A Story of Civilization</td>\n",
       "      <td>Puerto Rico</td>\n",
       "    </tr>\n",
       "    <tr>\n",
       "      <td>yearpublished</td>\n",
       "      <td>2005</td>\n",
       "      <td>2012</td>\n",
       "      <td>2013</td>\n",
       "      <td>2006</td>\n",
       "      <td>2002</td>\n",
       "    </tr>\n",
       "    <tr>\n",
       "      <td>minplayers</td>\n",
       "      <td>2</td>\n",
       "      <td>2</td>\n",
       "      <td>1</td>\n",
       "      <td>2</td>\n",
       "      <td>2</td>\n",
       "    </tr>\n",
       "    <tr>\n",
       "      <td>maxplayers</td>\n",
       "      <td>2</td>\n",
       "      <td>5</td>\n",
       "      <td>7</td>\n",
       "      <td>4</td>\n",
       "      <td>5</td>\n",
       "    </tr>\n",
       "    <tr>\n",
       "      <td>playingtime</td>\n",
       "      <td>180</td>\n",
       "      <td>150</td>\n",
       "      <td>210</td>\n",
       "      <td>240</td>\n",
       "      <td>150</td>\n",
       "    </tr>\n",
       "    <tr>\n",
       "      <td>minplaytime</td>\n",
       "      <td>180</td>\n",
       "      <td>60</td>\n",
       "      <td>30</td>\n",
       "      <td>240</td>\n",
       "      <td>90</td>\n",
       "    </tr>\n",
       "    <tr>\n",
       "      <td>maxplaytime</td>\n",
       "      <td>180</td>\n",
       "      <td>150</td>\n",
       "      <td>210</td>\n",
       "      <td>240</td>\n",
       "      <td>150</td>\n",
       "    </tr>\n",
       "    <tr>\n",
       "      <td>minage</td>\n",
       "      <td>13</td>\n",
       "      <td>12</td>\n",
       "      <td>12</td>\n",
       "      <td>12</td>\n",
       "      <td>12</td>\n",
       "    </tr>\n",
       "    <tr>\n",
       "      <td>users_rated</td>\n",
       "      <td>20113</td>\n",
       "      <td>14383</td>\n",
       "      <td>9262</td>\n",
       "      <td>13294</td>\n",
       "      <td>39883</td>\n",
       "    </tr>\n",
       "    <tr>\n",
       "      <td>average_rating</td>\n",
       "      <td>8.33774</td>\n",
       "      <td>8.28798</td>\n",
       "      <td>8.28994</td>\n",
       "      <td>8.20407</td>\n",
       "      <td>8.14261</td>\n",
       "    </tr>\n",
       "    <tr>\n",
       "      <td>bayes_average_rating</td>\n",
       "      <td>8.22186</td>\n",
       "      <td>8.14232</td>\n",
       "      <td>8.06886</td>\n",
       "      <td>8.05804</td>\n",
       "      <td>8.04524</td>\n",
       "    </tr>\n",
       "    <tr>\n",
       "      <td>total_owners</td>\n",
       "      <td>26647</td>\n",
       "      <td>16519</td>\n",
       "      <td>12230</td>\n",
       "      <td>14343</td>\n",
       "      <td>44362</td>\n",
       "    </tr>\n",
       "    <tr>\n",
       "      <td>total_traders</td>\n",
       "      <td>372</td>\n",
       "      <td>132</td>\n",
       "      <td>99</td>\n",
       "      <td>362</td>\n",
       "      <td>795</td>\n",
       "    </tr>\n",
       "    <tr>\n",
       "      <td>total_wanters</td>\n",
       "      <td>1219</td>\n",
       "      <td>1586</td>\n",
       "      <td>1476</td>\n",
       "      <td>1084</td>\n",
       "      <td>861</td>\n",
       "    </tr>\n",
       "    <tr>\n",
       "      <td>total_wishers</td>\n",
       "      <td>5865</td>\n",
       "      <td>6277</td>\n",
       "      <td>5600</td>\n",
       "      <td>5075</td>\n",
       "      <td>5414</td>\n",
       "    </tr>\n",
       "    <tr>\n",
       "      <td>total_comments</td>\n",
       "      <td>5347</td>\n",
       "      <td>2526</td>\n",
       "      <td>1700</td>\n",
       "      <td>3378</td>\n",
       "      <td>9173</td>\n",
       "    </tr>\n",
       "    <tr>\n",
       "      <td>total_weights</td>\n",
       "      <td>2562</td>\n",
       "      <td>1423</td>\n",
       "      <td>777</td>\n",
       "      <td>1642</td>\n",
       "      <td>5213</td>\n",
       "    </tr>\n",
       "    <tr>\n",
       "      <td>average_weight</td>\n",
       "      <td>3.4785</td>\n",
       "      <td>3.8939</td>\n",
       "      <td>3.7761</td>\n",
       "      <td>4.159</td>\n",
       "      <td>3.2943</td>\n",
       "    </tr>\n",
       "  </tbody>\n",
       "</table>\n",
       "</div>"
      ],
      "text/plain": [
       "                                      0              1  \\\n",
       "id                                12333         120677   \n",
       "type                          boardgame      boardgame   \n",
       "name                  Twilight Struggle  Terra Mystica   \n",
       "yearpublished                      2005           2012   \n",
       "minplayers                            2              2   \n",
       "maxplayers                            2              5   \n",
       "playingtime                         180            150   \n",
       "minplaytime                         180             60   \n",
       "maxplaytime                         180            150   \n",
       "minage                               13             12   \n",
       "users_rated                       20113          14383   \n",
       "average_rating                  8.33774        8.28798   \n",
       "bayes_average_rating            8.22186        8.14232   \n",
       "total_owners                      26647          16519   \n",
       "total_traders                       372            132   \n",
       "total_wanters                      1219           1586   \n",
       "total_wishers                      5865           6277   \n",
       "total_comments                     5347           2526   \n",
       "total_weights                      2562           1423   \n",
       "average_weight                   3.4785         3.8939   \n",
       "\n",
       "                                              2  \\\n",
       "id                                       102794   \n",
       "type                                  boardgame   \n",
       "name                  Caverna: The Cave Farmers   \n",
       "yearpublished                              2013   \n",
       "minplayers                                    1   \n",
       "maxplayers                                    7   \n",
       "playingtime                                 210   \n",
       "minplaytime                                  30   \n",
       "maxplaytime                                 210   \n",
       "minage                                       12   \n",
       "users_rated                                9262   \n",
       "average_rating                          8.28994   \n",
       "bayes_average_rating                    8.06886   \n",
       "total_owners                              12230   \n",
       "total_traders                                99   \n",
       "total_wanters                              1476   \n",
       "total_wishers                              5600   \n",
       "total_comments                             1700   \n",
       "total_weights                               777   \n",
       "average_weight                           3.7761   \n",
       "\n",
       "                                                              3            4  \n",
       "id                                                        25613         3076  \n",
       "type                                                  boardgame    boardgame  \n",
       "name                  Through the Ages: A Story of Civilization  Puerto Rico  \n",
       "yearpublished                                              2006         2002  \n",
       "minplayers                                                    2            2  \n",
       "maxplayers                                                    4            5  \n",
       "playingtime                                                 240          150  \n",
       "minplaytime                                                 240           90  \n",
       "maxplaytime                                                 240          150  \n",
       "minage                                                       12           12  \n",
       "users_rated                                               13294        39883  \n",
       "average_rating                                          8.20407      8.14261  \n",
       "bayes_average_rating                                    8.05804      8.04524  \n",
       "total_owners                                              14343        44362  \n",
       "total_traders                                               362          795  \n",
       "total_wanters                                              1084          861  \n",
       "total_wishers                                              5075         5414  \n",
       "total_comments                                             3378         9173  \n",
       "total_weights                                              1642         5213  \n",
       "average_weight                                            4.159       3.2943  "
      ]
     },
     "execution_count": 4,
     "metadata": {},
     "output_type": "execute_result"
    }
   ],
   "source": [
    "data.head().T"
   ]
  },
  {
   "cell_type": "markdown",
   "metadata": {
    "colab_type": "text",
    "id": "kchMeESY39aj"
   },
   "source": [
    "** Use .info() method to find out total number of entries in dataset**"
   ]
  },
  {
   "cell_type": "code",
   "execution_count": 5,
   "metadata": {
    "colab": {},
    "colab_type": "code",
    "id": "vqw0iuHE39aj"
   },
   "outputs": [
    {
     "name": "stdout",
     "output_type": "stream",
     "text": [
      "<class 'pandas.core.frame.DataFrame'>\n",
      "RangeIndex: 81312 entries, 0 to 81311\n",
      "Data columns (total 20 columns):\n",
      "id                      81312 non-null int64\n",
      "type                    81312 non-null object\n",
      "name                    81271 non-null object\n",
      "yearpublished           81309 non-null float64\n",
      "minplayers              81309 non-null float64\n",
      "maxplayers              81309 non-null float64\n",
      "playingtime             81309 non-null float64\n",
      "minplaytime             81309 non-null float64\n",
      "maxplaytime             81309 non-null float64\n",
      "minage                  81309 non-null float64\n",
      "users_rated             81312 non-null int64\n",
      "average_rating          81312 non-null float64\n",
      "bayes_average_rating    81312 non-null float64\n",
      "total_owners            81312 non-null int64\n",
      "total_traders           81312 non-null int64\n",
      "total_wanters           81312 non-null int64\n",
      "total_wishers           81312 non-null int64\n",
      "total_comments          81312 non-null int64\n",
      "total_weights           81312 non-null int64\n",
      "average_weight          81312 non-null float64\n",
      "dtypes: float64(10), int64(8), object(2)\n",
      "memory usage: 12.4+ MB\n"
     ]
    }
   ],
   "source": [
    "data.info()"
   ]
  },
  {
   "cell_type": "markdown",
   "metadata": {
    "colab_type": "text",
    "id": "pb_jcBlV39al"
   },
   "source": [
    "**What is the mean playin time for all games put together ?**"
   ]
  },
  {
   "cell_type": "code",
   "execution_count": 6,
   "metadata": {
    "colab": {},
    "colab_type": "code",
    "id": "VlUtAjms39am"
   },
   "outputs": [
    {
     "data": {
      "text/plain": [
       "51.63478827682052"
      ]
     },
     "execution_count": 6,
     "metadata": {},
     "output_type": "execute_result"
    }
   ],
   "source": [
    "data['playingtime'].mean()"
   ]
  },
  {
   "cell_type": "markdown",
   "metadata": {
    "colab_type": "text",
    "id": "88dyU2NZ39ao"
   },
   "source": [
    "** What is the highest number of comments received for a game? **"
   ]
  },
  {
   "cell_type": "code",
   "execution_count": 7,
   "metadata": {
    "colab": {},
    "colab_type": "code",
    "id": "dsFCrv6B39ap"
   },
   "outputs": [
    {
     "data": {
      "text/plain": [
       "11798"
      ]
     },
     "execution_count": 7,
     "metadata": {},
     "output_type": "execute_result"
    }
   ],
   "source": [
    "data['total_comments'].max()"
   ]
  },
  {
   "cell_type": "markdown",
   "metadata": {
    "colab_type": "text",
    "id": "iZ5r64Vl39ar"
   },
   "source": [
    "** What is the name of the game with id 1500?  **"
   ]
  },
  {
   "cell_type": "code",
   "execution_count": 9,
   "metadata": {
    "colab": {},
    "colab_type": "code",
    "id": "q-pHJCzG39as"
   },
   "outputs": [
    {
     "data": {
      "text/plain": [
       "10592    Zocken\n",
       "Name: name, dtype: object"
      ]
     },
     "execution_count": 9,
     "metadata": {},
     "output_type": "execute_result"
    }
   ],
   "source": [
    "data[data['id']==1500]['name']"
   ]
  },
  {
   "cell_type": "markdown",
   "metadata": {
    "colab_type": "text",
    "id": "VXo7npwp39av"
   },
   "source": [
    "** And which year was it published? **"
   ]
  },
  {
   "cell_type": "code",
   "execution_count": 11,
   "metadata": {
    "colab": {},
    "colab_type": "code",
    "id": "u3curcuE39av"
   },
   "outputs": [
    {
     "data": {
      "text/plain": [
       "10592    1999.0\n",
       "Name: yearpublished, dtype: float64"
      ]
     },
     "execution_count": 11,
     "metadata": {},
     "output_type": "execute_result"
    }
   ],
   "source": [
    "data[data['id']==1500]['yearpublished']"
   ]
  },
  {
   "cell_type": "markdown",
   "metadata": {
    "colab_type": "text",
    "id": "y3WAIIVq39ay"
   },
   "source": [
    "** Which game has received highest number of comments? **"
   ]
  },
  {
   "cell_type": "code",
   "execution_count": 25,
   "metadata": {
    "colab": {},
    "colab_type": "code",
    "id": "LLR53F5E39az"
   },
   "outputs": [
    {
     "data": {
      "text/plain": [
       "array(['Catan'], dtype=object)"
      ]
     },
     "execution_count": 25,
     "metadata": {},
     "output_type": "execute_result"
    }
   ],
   "source": [
    "data[data['total_comments']==data['total_comments'].max()]['name'].unique()"
   ]
  },
  {
   "cell_type": "markdown",
   "metadata": {
    "colab_type": "text",
    "id": "ADSNSu7539a1"
   },
   "source": [
    "** Which games have received least number of comments? **"
   ]
  },
  {
   "cell_type": "code",
   "execution_count": 29,
   "metadata": {
    "colab": {},
    "colab_type": "code",
    "id": "4C2ICmLZ39a2"
   },
   "outputs": [
    {
     "data": {
      "text/plain": [
       "array(['Looney Leo', 'Dump', 'Field of Fire', ..., 'BEARanoia', 'Freight',\n",
       "       'Bingo Animal Kids'], dtype=object)"
      ]
     },
     "execution_count": 29,
     "metadata": {},
     "output_type": "execute_result"
    }
   ],
   "source": [
    "data[data['total_comments']==data['total_comments'].min()]['name'].unique()"
   ]
  },
  {
   "cell_type": "markdown",
   "metadata": {
    "colab_type": "text",
    "id": "kP0A-2EP39a5"
   },
   "source": [
    "** What was the average minage of all games per game \"type\"? (boardgame & boardgameexpansion)**"
   ]
  },
  {
   "cell_type": "code",
   "execution_count": 33,
   "metadata": {},
   "outputs": [
    {
     "name": "stdout",
     "output_type": "stream",
     "text": [
      "Board Game Averge:  6.724797718062047\n",
      "Board Game Expansion Average 8.733320625238276\n"
     ]
    }
   ],
   "source": [
    "print('Board Game Averge: ', data[data['type']=='boardgame']['minage'].mean())\n",
    "print('Board Game Expansion Average', data[data['type']=='boardgameexpansion']['minage'].mean())"
   ]
  },
  {
   "cell_type": "code",
   "execution_count": 36,
   "metadata": {},
   "outputs": [
    {
     "data": {
      "text/plain": [
       "type\n",
       "boardgame             6.724798\n",
       "boardgameexpansion    8.733321\n",
       "Name: minage, dtype: float64"
      ]
     },
     "execution_count": 36,
     "metadata": {},
     "output_type": "execute_result"
    }
   ],
   "source": [
    "data.groupby('type').mean()['minage']"
   ]
  },
  {
   "cell_type": "markdown",
   "metadata": {
    "colab_type": "text",
    "id": "mX9uNVSB39a9"
   },
   "source": [
    "** How many unique games are there in the dataset? **"
   ]
  },
  {
   "cell_type": "code",
   "execution_count": 39,
   "metadata": {
    "colab": {},
    "colab_type": "code",
    "id": "7z1SNNVX39a-"
   },
   "outputs": [
    {
     "data": {
      "text/plain": [
       "76035"
      ]
     },
     "execution_count": 39,
     "metadata": {},
     "output_type": "execute_result"
    }
   ],
   "source": [
    "data['name'].nunique()"
   ]
  },
  {
   "cell_type": "markdown",
   "metadata": {
    "colab_type": "text",
    "id": "yLq2RmmY39bA"
   },
   "source": [
    "** How many boardgames and boardgameexpansions are there in the dataset?  **"
   ]
  },
  {
   "cell_type": "code",
   "execution_count": 40,
   "metadata": {
    "colab": {},
    "colab_type": "code",
    "id": "aTorLWJE39bA"
   },
   "outputs": [
    {
     "data": {
      "text/plain": [
       "boardgame             70820\n",
       "boardgameexpansion    10492\n",
       "Name: type, dtype: int64"
      ]
     },
     "execution_count": 40,
     "metadata": {},
     "output_type": "execute_result"
    }
   ],
   "source": [
    "data['type'].value_counts()"
   ]
  },
  {
   "cell_type": "markdown",
   "metadata": {
    "colab_type": "text",
    "id": "eYC0ZVBF39bD"
   },
   "source": [
    "** Is there a correlation between playing time and total comments for the games? - Use the .corr() function **"
   ]
  },
  {
   "cell_type": "code",
   "execution_count": 43,
   "metadata": {
    "colab": {},
    "colab_type": "code",
    "id": "2Trn1FuW39bE"
   },
   "outputs": [
    {
     "data": {
      "text/html": [
       "<div>\n",
       "<style scoped>\n",
       "    .dataframe tbody tr th:only-of-type {\n",
       "        vertical-align: middle;\n",
       "    }\n",
       "\n",
       "    .dataframe tbody tr th {\n",
       "        vertical-align: top;\n",
       "    }\n",
       "\n",
       "    .dataframe thead th {\n",
       "        text-align: right;\n",
       "    }\n",
       "</style>\n",
       "<table border=\"1\" class=\"dataframe\">\n",
       "  <thead>\n",
       "    <tr style=\"text-align: right;\">\n",
       "      <th></th>\n",
       "      <th>playingtime</th>\n",
       "      <th>total_comments</th>\n",
       "    </tr>\n",
       "  </thead>\n",
       "  <tbody>\n",
       "    <tr>\n",
       "      <td>playingtime</td>\n",
       "      <td>1.000000</td>\n",
       "      <td>0.020645</td>\n",
       "    </tr>\n",
       "    <tr>\n",
       "      <td>total_comments</td>\n",
       "      <td>0.020645</td>\n",
       "      <td>1.000000</td>\n",
       "    </tr>\n",
       "  </tbody>\n",
       "</table>\n",
       "</div>"
      ],
      "text/plain": [
       "                playingtime  total_comments\n",
       "playingtime        1.000000        0.020645\n",
       "total_comments     0.020645        1.000000"
      ]
     },
     "execution_count": 43,
     "metadata": {},
     "output_type": "execute_result"
    }
   ],
   "source": [
    "data[['playingtime', 'total_comments']].corr()"
   ]
  },
  {
   "cell_type": "markdown",
   "metadata": {
    "colab_type": "text",
    "id": "cpz0KHUR39bI"
   },
   "source": [
    "### The END"
   ]
  },
  {
   "cell_type": "code",
   "execution_count": null,
   "metadata": {},
   "outputs": [],
   "source": []
  }
 ],
 "metadata": {
  "colab": {
   "name": "Pandas Lab Exercise (Kaggle Games Dataset).ipynb",
   "provenance": [],
   "version": "0.3.2"
  },
  "kernelspec": {
   "display_name": "Python 3",
   "language": "python",
   "name": "python3"
  },
  "language_info": {
   "codemirror_mode": {
    "name": "ipython",
    "version": 3
   },
   "file_extension": ".py",
   "mimetype": "text/x-python",
   "name": "python",
   "nbconvert_exporter": "python",
   "pygments_lexer": "ipython3",
   "version": "3.7.4"
  }
 },
 "nbformat": 4,
 "nbformat_minor": 1
}
