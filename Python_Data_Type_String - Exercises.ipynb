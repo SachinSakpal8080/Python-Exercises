{
 "cells": [
  {
   "cell_type": "markdown",
   "metadata": {},
   "source": [
    "#### 1. Write a Python program to calculate the length of a string."
   ]
  },
  {
   "cell_type": "code",
   "execution_count": 1,
   "metadata": {},
   "outputs": [
    {
     "data": {
      "text/plain": [
       "11"
      ]
     },
     "execution_count": 1,
     "metadata": {},
     "output_type": "execute_result"
    }
   ],
   "source": [
    "str1 = 'Hello World'\n",
    "len(str1)"
   ]
  },
  {
   "cell_type": "code",
   "execution_count": 2,
   "metadata": {},
   "outputs": [
    {
     "name": "stdout",
     "output_type": "stream",
     "text": [
      "14\n"
     ]
    }
   ],
   "source": [
    "str1 = 'w3resource.com'\n",
    "length = 0\n",
    "for i in str1:\n",
    "    length = length + 1\n",
    "print(length)"
   ]
  },
  {
   "cell_type": "markdown",
   "metadata": {},
   "source": [
    "#### 2. Write a Python program to count the number of characters (character frequency) in a string."
   ]
  },
  {
   "cell_type": "code",
   "execution_count": 3,
   "metadata": {},
   "outputs": [
    {
     "name": "stdout",
     "output_type": "stream",
     "text": [
      "{'H': 1, 'e': 1, 'l': 3, 'o': 2, ' ': 1, 'W': 1, 'r': 1, 'd': 1}\n"
     ]
    }
   ],
   "source": [
    "def char_frequency(string):\n",
    "    DICT = {}\n",
    "    for i in string:\n",
    "        keys = DICT.keys()\n",
    "        if i in keys:\n",
    "            DICT[i] += 1\n",
    "        else:\n",
    "            DICT[i] = 1\n",
    "    return DICT\n",
    "print(char_frequency('Hello World'))"
   ]
  },
  {
   "cell_type": "markdown",
   "metadata": {},
   "source": [
    "#### 3. Write a Python program to get a string made of the first 2 and the last 2 chars from a given a string. If the string length is less than 2, return instead of the empty string."
   ]
  },
  {
   "cell_type": "code",
   "execution_count": 4,
   "metadata": {},
   "outputs": [
    {
     "name": "stdout",
     "output_type": "stream",
     "text": [
      "Helo\n",
      "Wold\n",
      "\n"
     ]
    }
   ],
   "source": [
    "def string_both_ends(str):\n",
    "    if len(str) < 2:\n",
    "        return ''\n",
    "    else:\n",
    "        return str[0:2] + str[-2:]\n",
    "\n",
    "print(string_both_ends('Hello'))\n",
    "print(string_both_ends('World'))\n",
    "print(string_both_ends('S'))"
   ]
  },
  {
   "cell_type": "markdown",
   "metadata": {},
   "source": [
    "#### 4. Write a Python program to get a string from a given string where all occurrences of its first char have been changed to '$', except the first char itself."
   ]
  },
  {
   "cell_type": "code",
   "execution_count": 5,
   "metadata": {},
   "outputs": [
    {
     "name": "stdout",
     "output_type": "stream",
     "text": [
      "resta$t\n"
     ]
    }
   ],
   "source": [
    "def change_character(STR):\n",
    "    character = STR[0]\n",
    "    STR1 = STR.replace(character, '$')\n",
    "    STR1 = character + STR1[1:]\n",
    "    \n",
    "    return STR1\n",
    "print(change_character('restart'))"
   ]
  },
  {
   "cell_type": "markdown",
   "metadata": {},
   "source": [
    "#### 5. Write a Python program to get a single string from two given strings, separated by a space and swap the first two characters of each string."
   ]
  },
  {
   "cell_type": "code",
   "execution_count": 6,
   "metadata": {},
   "outputs": [
    {
     "name": "stdout",
     "output_type": "stream",
     "text": [
      "hello world\n"
     ]
    }
   ],
   "source": [
    "def chars_mix_up(str1, str2):\n",
    "    new_str1 = str2[:2] + str1[2:]\n",
    "    new_str2 = str1[:2] + str2[2:]\n",
    "    \n",
    "    return new_str1 + ' ' + new_str2\n",
    "print(chars_mix_up('wollo', 'herld'))"
   ]
  },
  {
   "cell_type": "markdown",
   "metadata": {},
   "source": [
    "#### 6. Write a Python program to add 'ing' at the end of a given string (length should be at least 3). If the given string already ends with 'ing' then add 'ly' instead. If the string length of the given string is less than 3, leave it unchanged."
   ]
  },
  {
   "cell_type": "code",
   "execution_count": 7,
   "metadata": {},
   "outputs": [
    {
     "name": "stdout",
     "output_type": "stream",
     "text": [
      "None\n",
      "siting\n",
      "workingly\n"
     ]
    }
   ],
   "source": [
    "def add_str(str1):\n",
    "    length = len(str1)\n",
    "    if length > 2:\n",
    "        if str1[-3:] == 'ing':\n",
    "            str1 += 'ly'\n",
    "        else:\n",
    "            str1 += 'ing'\n",
    "\n",
    "        return str1\n",
    "print(add_str('do'))\n",
    "print(add_str('sit'))\n",
    "print(add_str('working'))"
   ]
  },
  {
   "cell_type": "markdown",
   "metadata": {},
   "source": [
    "#### 7. Write a Python function that takes a list of words and returns the length of the longest one."
   ]
  },
  {
   "cell_type": "code",
   "execution_count": 8,
   "metadata": {},
   "outputs": [
    {
     "name": "stdout",
     "output_type": "stream",
     "text": [
      "9\n"
     ]
    }
   ],
   "source": [
    "def find_longest_word(LIST):\n",
    "    word_len = []\n",
    "    for n in LIST:\n",
    "        word_len.append((len(n), n))\n",
    "        word_len.sort()\n",
    "    return word_len[-1][0]\n",
    "\n",
    "print(find_longest_word([\"PHP\", \"Exercises\", \"Backend\"]))"
   ]
  },
  {
   "cell_type": "markdown",
   "metadata": {},
   "source": [
    "#### 8. Write a Python program to remove the nth index character from a nonempty string."
   ]
  },
  {
   "cell_type": "code",
   "execution_count": 9,
   "metadata": {},
   "outputs": [
    {
     "name": "stdout",
     "output_type": "stream",
     "text": [
      "Hello\n",
      "Nothing\n",
      "Computer\n"
     ]
    }
   ],
   "source": [
    "def remove_char(str, n):\n",
    "    first_part = str[:n] \n",
    "    last_part = str[n+1:]\n",
    "    return first_part + last_part\n",
    "print(remove_char('HHello', 0))\n",
    "print(remove_char('Nothhing', 3))\n",
    "print(remove_char('Computter', 5))"
   ]
  },
  {
   "cell_type": "markdown",
   "metadata": {},
   "source": [
    "#### 9. Write a Python program to change a given string to a new string where the first and last chars have been exchanged."
   ]
  },
  {
   "cell_type": "code",
   "execution_count": 10,
   "metadata": {},
   "outputs": [
    {
     "name": "stdout",
     "output_type": "stream",
     "text": [
      "Great Lakes\n",
      "Welcome\n"
     ]
    }
   ],
   "source": [
    "def change_sring(str1):\n",
    "    return str1[-1:] + str1[1:-1] + str1[:1]\n",
    "    \n",
    "print(change_sring('sreat LakeG'))\n",
    "print(change_sring('eelcomW'))"
   ]
  },
  {
   "cell_type": "markdown",
   "metadata": {},
   "source": [
    "#### 10. Write a Python program to remove the characters which have odd index values of a given string."
   ]
  },
  {
   "cell_type": "code",
   "execution_count": 11,
   "metadata": {},
   "outputs": [
    {
     "name": "stdout",
     "output_type": "stream",
     "text": [
      "a\n",
      "j\n"
     ]
    }
   ],
   "source": [
    "def odd_values_string(str):\n",
    "    result = \"\"\n",
    "    for i in range(len(str)):\n",
    "        if i % 2 == 0:\n",
    "            result = result + str[i]\n",
    "        return result\n",
    "\n",
    "print(odd_values_string('abcd'))\n",
    "print(odd_values_string('java'))"
   ]
  },
  {
   "cell_type": "markdown",
   "metadata": {},
   "source": [
    "#### 11. Write a Python program to count the occurrences of each word in a given sentence."
   ]
  },
  {
   "cell_type": "code",
   "execution_count": 12,
   "metadata": {},
   "outputs": [
    {
     "name": "stdout",
     "output_type": "stream",
     "text": [
      "{'the': 2, 'quick': 1, 'brown': 1, 'fox': 1, 'jumps': 1, 'over': 1, 'lazy': 1, 'dog.': 1}\n"
     ]
    }
   ],
   "source": [
    "def word_count(str):\n",
    "    counts = dict()\n",
    "    words = str.split()\n",
    "    \n",
    "    for word in words:\n",
    "        if word in counts:\n",
    "            counts[word] += 1\n",
    "        else:\n",
    "            counts[word] = 1\n",
    "    return counts\n",
    "\n",
    "print( word_count('the quick brown fox jumps over the lazy dog.'))"
   ]
  },
  {
   "cell_type": "markdown",
   "metadata": {},
   "source": [
    "#### 12. Write a Python script that takes input from the user and displays that input back in upper and lower cases."
   ]
  },
  {
   "cell_type": "code",
   "execution_count": 13,
   "metadata": {},
   "outputs": [
    {
     "name": "stdout",
     "output_type": "stream",
     "text": [
      "What's your favourite language: Python\n",
      "My favourite language is  PYTHON\n",
      "My favourite language is  python\n"
     ]
    }
   ],
   "source": [
    "language = input(\"What's your favourite language: \")\n",
    "print(\"My favourite language is \", language.upper())\n",
    "print(\"My favourite language is \", language.lower())"
   ]
  },
  {
   "cell_type": "markdown",
   "metadata": {},
   "source": [
    "#### 13. Write a Python program that accepts a comma separated sequence of words as input and prints the unique words in sorted form (alphanumerically)."
   ]
  },
  {
   "cell_type": "code",
   "execution_count": 14,
   "metadata": {},
   "outputs": [
    {
     "name": "stdout",
     "output_type": "stream",
     "text": [
      "Input comma separated sequence of wordsgreen, red, yellow, white, mean, mode, median\n",
      " mean, median, mode, red, white, yellow,green\n"
     ]
    }
   ],
   "source": [
    "items = input(\"Input comma separated sequence of words\")\n",
    "words = [word for word in items.split(\",\")]\n",
    "print(\",\".join(sorted(list(set(words)))))"
   ]
  },
  {
   "cell_type": "markdown",
   "metadata": {},
   "source": [
    "#### 14. Write a Python function to create the HTML string with tags around the word(s)."
   ]
  },
  {
   "cell_type": "code",
   "execution_count": 15,
   "metadata": {},
   "outputs": [
    {
     "name": "stdout",
     "output_type": "stream",
     "text": [
      "<i>Python</i>\n",
      "<b>Python Tutorial</b>\n"
     ]
    }
   ],
   "source": [
    "def add_tags(tag, word):\n",
    "    return \"<%s>%s</%s>\" % (tag, word, tag)\n",
    "print(add_tags('i', 'Python'))\n",
    "print(add_tags('b', 'Python Tutorial'))"
   ]
  },
  {
   "cell_type": "markdown",
   "metadata": {},
   "source": [
    "#### 15. Write a Python function to insert a string in the middle of a string."
   ]
  },
  {
   "cell_type": "code",
   "execution_count": 16,
   "metadata": {},
   "outputs": [
    {
     "name": "stdout",
     "output_type": "stream",
     "text": [
      "[[Python]]\n",
      "{{PHP}}\n",
      "<<HTML>>\n"
     ]
    }
   ],
   "source": [
    "def insert_sting_middle(str, word):\n",
    "    return str[:2] + word + str[2:]\n",
    "\n",
    "print(insert_sting_middle('[[]]', 'Python'))\n",
    "print(insert_sting_middle('{{}}', 'PHP'))\n",
    "print(insert_sting_middle('<<>>', 'HTML'))"
   ]
  },
  {
   "cell_type": "markdown",
   "metadata": {},
   "source": [
    "#### 16. Write a Python function to get a string made of 4 copies of the last two characters of a specified string (length must be at least 2)."
   ]
  },
  {
   "cell_type": "code",
   "execution_count": 17,
   "metadata": {},
   "outputs": [
    {
     "name": "stdout",
     "output_type": "stream",
     "text": [
      "vavavava\n",
      "MLMLMLML\n"
     ]
    }
   ],
   "source": [
    "def insert_end(str):\n",
    "    sub_str = str[-2:]\n",
    "    return sub_str * 4\n",
    "\n",
    "print(insert_end('Java'))\n",
    "print(insert_end('HTML'))\n"
   ]
  },
  {
   "cell_type": "markdown",
   "metadata": {},
   "source": [
    "#### 17. Write a Python function to get a string made of its first three characters of a specified string. If the length of the string is less than 3 then return the original string."
   ]
  },
  {
   "cell_type": "code",
   "execution_count": 18,
   "metadata": {},
   "outputs": [
    {
     "name": "stdout",
     "output_type": "stream",
     "text": [
      "ipy\n",
      "pyt\n",
      "py\n"
     ]
    }
   ],
   "source": [
    "def first_three(str):\n",
    "    return str[:3] if len(str) > 3 else str\n",
    "\n",
    "print(first_three('ipy'))\n",
    "print(first_three('python'))\n",
    "print(first_three('py'))"
   ]
  },
  {
   "cell_type": "markdown",
   "metadata": {},
   "source": [
    "#### 18. Write a Python program to get the last part of a string before a specified character."
   ]
  },
  {
   "cell_type": "code",
   "execution_count": 19,
   "metadata": {},
   "outputs": [
    {
     "name": "stdout",
     "output_type": "stream",
     "text": [
      "https://www.w3resource.com/python-exercises\n",
      "https://www.w3resource.com/python\n"
     ]
    }
   ],
   "source": [
    "str1 = 'https://www.w3resource.com/python-exercises/string'\n",
    "print(str1.rsplit('/', 1)[0])\n",
    "print(str1.rsplit('-', 1)[0])"
   ]
  },
  {
   "cell_type": "markdown",
   "metadata": {},
   "source": [
    "#### 19. Write a Python function to reverses a string if it's length is a multiple of 4."
   ]
  },
  {
   "cell_type": "markdown",
   "metadata": {},
   "source": [
    "def reverse_string(str1):\n",
    "    if len(str1) % 4 == 0:\n",
    "        return ''.join(reversed(str1))\n",
    "    return str1\n",
    "\n",
    "print(reverse_string('Python'))\n",
    "print(reverse_string('Disc'))"
   ]
  },
  {
   "cell_type": "markdown",
   "metadata": {},
   "source": [
    "#### 20. Write a program which accepts a string and prints the characters  that have even index which includes 0."
   ]
  },
  {
   "cell_type": "code",
   "execution_count": 29,
   "metadata": {},
   "outputs": [
    {
     "name": "stdout",
     "output_type": "stream",
     "text": [
      "Original String:  H1e2l3l4o5w6o7r8l9d\n",
      "String with even index:  Helloworld\n"
     ]
    }
   ],
   "source": [
    "string = 'H1e2l3l4o5w6o7r8l9d'\n",
    "print('Original String: ', string)\n",
    "print('String with even index: ', string[::2])"
   ]
  },
  {
   "cell_type": "markdown",
   "metadata": {},
   "source": [
    "#### 21. Write a program which accepts a string and prints the characters that have Odd index."
   ]
  },
  {
   "cell_type": "code",
   "execution_count": 30,
   "metadata": {},
   "outputs": [
    {
     "name": "stdout",
     "output_type": "stream",
     "text": [
      "Original String:  1H2e3l4l5o6w7o8r9l1d\n",
      "String with even index:  Helloworld\n"
     ]
    }
   ],
   "source": [
    "string = '1H2e3l4l5o6w7o8r9l1d'\n",
    "print('Original String: ', string)\n",
    "print('String with even index: ', string[1::2])"
   ]
  },
  {
   "cell_type": "markdown",
   "metadata": {},
   "source": [
    "#### 22. Write a program to replace multiple characters at once."
   ]
  },
  {
   "cell_type": "code",
   "execution_count": 27,
   "metadata": {},
   "outputs": [
    {
     "name": "stdout",
     "output_type": "stream",
     "text": [
      "Original String:  abbabba\n",
      "Replaced String:  baabaab\n"
     ]
    }
   ],
   "source": [
    "string = 'abbabba'\n",
    "print('Original String: ', string)\n",
    "print('Replaced String: ', string.replace('a', 'c').replace('b', 'a').replace('c', 'b'))"
   ]
  },
  {
   "cell_type": "markdown",
   "metadata": {},
   "source": [
    "#### 23. Write a program to get substrings of given string."
   ]
  },
  {
   "cell_type": "code",
   "execution_count": 33,
   "metadata": {},
   "outputs": [
    {
     "name": "stdout",
     "output_type": "stream",
     "text": [
      "Sub strings: \n",
      "['g', 'gr', 'gre', 'grea', 'great', 'great ', 'great l', 'great le', 'great lea', 'great lear', 'great learn', 'great learni', 'great learnin', 'r', 're', 'rea', 'reat', 'reat ', 'reat l', 'reat le', 'reat lea', 'reat lear', 'reat learn', 'reat learni', 'reat learnin', 'e', 'ea', 'eat', 'eat ', 'eat l', 'eat le', 'eat lea', 'eat lear', 'eat learn', 'eat learni', 'eat learnin', 'a', 'at', 'at ', 'at l', 'at le', 'at lea', 'at lear', 'at learn', 'at learni', 'at learnin', 't', 't ', 't l', 't le', 't lea', 't lear', 't learn', 't learni', 't learnin', ' ', ' l', ' le', ' lea', ' lear', ' learn', ' learni', ' learnin', 'l', 'le', 'lea', 'lear', 'learn', 'learni', 'learnin', 'e', 'ea', 'ear', 'earn', 'earni', 'earnin', 'a', 'ar', 'arn', 'arni', 'arnin', 'r', 'rn', 'rni', 'rnin', 'n', 'ni', 'nin', 'i', 'in', 'n']\n"
     ]
    }
   ],
   "source": [
    "string = 'great learning'\n",
    "print('Sub strings: ')\n",
    "print([string[i:j] for i in range(len(string)) for j in range(i+1, len(string))])"
   ]
  },
  {
   "cell_type": "markdown",
   "metadata": {},
   "source": [
    "#### 24. Write a program that accepts a sentence and calculates the number of upper case letters and lower case letters."
   ]
  },
  {
   "cell_type": "code",
   "execution_count": 35,
   "metadata": {},
   "outputs": [
    {
     "name": "stdout",
     "output_type": "stream",
     "text": [
      "Upper case characters count:  1\n",
      "Lower case characters count:  9\n"
     ]
    }
   ],
   "source": [
    "string = 'Hello world'\n",
    "a = 0\n",
    "b = 0\n",
    "for i in string:\n",
    "    if i.isupper():\n",
    "        a = a + 1\n",
    "    if i.islower():\n",
    "        b = b + 1\n",
    "\n",
    "print('Upper case characters count: ', a)\n",
    "print('Lower case characters count: ', b)"
   ]
  },
  {
   "cell_type": "markdown",
   "metadata": {},
   "source": [
    "#### 24. Write a program that accepts a sentence and calculates the number of letters and numbers."
   ]
  },
  {
   "cell_type": "code",
   "execution_count": 38,
   "metadata": {},
   "outputs": [
    {
     "name": "stdout",
     "output_type": "stream",
     "text": [
      "Letters count:  10\n",
      "Numbers count:  6\n"
     ]
    }
   ],
   "source": [
    "string = 'Hello world 145487'\n",
    "a = 0\n",
    "b = 0\n",
    "for i in string:\n",
    "    if i.isalpha():\n",
    "        a = a + 1\n",
    "    if i.isdigit():\n",
    "        b = b + 1\n",
    "\n",
    "print('Letters count: ', a)\n",
    "print('Numbers count: ', b)"
   ]
  },
  {
   "cell_type": "markdown",
   "metadata": {},
   "source": [
    "#### 25. Write a program that accept a sequence of whitespace seperated words as input and prints the words  after removing all duplicate words and sorting them alpha numerically."
   ]
  },
  {
   "cell_type": "code",
   "execution_count": 42,
   "metadata": {},
   "outputs": [
    {
     "name": "stdout",
     "output_type": "stream",
     "text": [
      "again and hello makes perfect practice world\n"
     ]
    }
   ],
   "source": [
    "string = 'hello world and practice makes perfect and hello world again'\n",
    "st = string.split(' ')\n",
    "LIST = []\n",
    "for i in st:\n",
    "    if i not in LIST:\n",
    "        LIST.append(i)\n",
    "    else:\n",
    "        continue\n",
    "LIST.sort()\n",
    "print((' ').join(LIST))"
   ]
  },
  {
   "cell_type": "markdown",
   "metadata": {},
   "source": [
    "#### 26. Write a program to print a list of the first letters of every word in the string using List Comprehension."
   ]
  },
  {
   "cell_type": "code",
   "execution_count": 43,
   "metadata": {},
   "outputs": [
    {
     "name": "stdout",
     "output_type": "stream",
     "text": [
      "['C', 'a', 'l', 'o', 't', 'f', 'l', 'o', 'e', 'w', 'i', 't', 's']\n"
     ]
    }
   ],
   "source": [
    "string = 'Create a list of the first letters of every word in this string'\n",
    "result = [word[0] for word in string.split(' ')]\n",
    "print(result)"
   ]
  },
  {
   "cell_type": "markdown",
   "metadata": {},
   "source": [
    "#### 27. Write a program to accept a hypen separated sequence of words as input and print the words in a hypen seperated sequence after sorting them aphabetically."
   ]
  },
  {
   "cell_type": "code",
   "execution_count": 59,
   "metadata": {},
   "outputs": [
    {
     "name": "stdout",
     "output_type": "stream",
     "text": [
      "I-am-great-learning-student\n"
     ]
    }
   ],
   "source": [
    "string = 'I-am-great-learning-student'\n",
    "st = string.split('-')\n",
    "LIST = []\n",
    "for i in st:\n",
    "    if i not in LIST:\n",
    "        LIST.append(i)\n",
    "    else:\n",
    "        continue\n",
    "LIST.sort()\n",
    "print(('-').join(LIST))"
   ]
  },
  {
   "cell_type": "markdown",
   "metadata": {},
   "source": [
    "#### 28. Write a program for a function that capitalizes the first & 4th letter given in the string."
   ]
  },
  {
   "cell_type": "code",
   "execution_count": 62,
   "metadata": {},
   "outputs": [
    {
     "data": {
      "text/plain": [
       "'MacDonald'"
      ]
     },
     "execution_count": 62,
     "metadata": {},
     "output_type": "execute_result"
    }
   ],
   "source": [
    "def cap_1_4_letter(s):\n",
    "    return ''.join([s[:1].upper(), s[1:3], s[3:4].upper(), s[4:]])\n",
    "string = 'macdonald'\n",
    "cap_1_4_letter(string)"
   ]
  },
  {
   "cell_type": "markdown",
   "metadata": {},
   "source": [
    "#### 29. Write a Python program to count repeated characters in a string."
   ]
  },
  {
   "cell_type": "code",
   "execution_count": 64,
   "metadata": {},
   "outputs": [
    {
     "name": "stdout",
     "output_type": "stream",
     "text": [
      "o 4\n",
      "e 3\n",
      "t 2\n",
      "h 2\n",
      "u 2\n",
      "r 2\n"
     ]
    }
   ],
   "source": [
    "import collections\n",
    "str1 = 'thequickbrownfoxjumpsoverthelazydog'\n",
    "d = collections.defaultdict(int)\n",
    "for c in str1:\n",
    "    d[c] += 1\n",
    "\n",
    "for c in sorted(d, key=d.get, reverse=True):\n",
    "    if d[c] > 1:\n",
    "        print('%s %d' % (c, d[c]))"
   ]
  },
  {
   "cell_type": "markdown",
   "metadata": {},
   "source": [
    "#### 30. Write a Python program to print the index of the character in a string."
   ]
  },
  {
   "cell_type": "code",
   "execution_count": 65,
   "metadata": {},
   "outputs": [
    {
     "name": "stdout",
     "output_type": "stream",
     "text": [
      "Current character H position at 0\n",
      "Current character e position at 1\n",
      "Current character l position at 2\n",
      "Current character l position at 3\n",
      "Current character o position at 4\n",
      "Current character   position at 5\n",
      "Current character w position at 6\n",
      "Current character o position at 7\n",
      "Current character l position at 8\n",
      "Current character r position at 9\n",
      "Current character d position at 10\n"
     ]
    }
   ],
   "source": [
    "str1 = 'Hello wolrd'\n",
    "for index, char in enumerate(str1):\n",
    "    print(\"Current character\", char, \"position at\", index )"
   ]
  },
  {
   "cell_type": "markdown",
   "metadata": {},
   "source": [
    "#### 31. Write a Python program to find the second most repeated word in a given string."
   ]
  },
  {
   "cell_type": "code",
   "execution_count": 69,
   "metadata": {},
   "outputs": [
    {
     "name": "stdout",
     "output_type": "stream",
     "text": [
      "[('Both', 1), ('these', 1), ('issues', 1), ('fixed', 1), ('postponing', 1), ('evaluation', 1), ('annotations.', 1), ('Instead', 1), ('compiling', 1), ('code', 1), ('which', 1), ('executes', 1), ('expressions', 1), ('their', 1), ('definition', 1), ('time,', 1), ('compiler', 1), ('stores', 1), ('annotation', 1), ('a', 1), ('string', 1), ('form', 1), ('equivalent', 1), ('AST', 1), ('expression', 1), ('question.', 1), ('If', 1), ('needed,', 1), ('can', 1), ('be', 1), ('resolved', 1), ('runtime', 1), ('using', 1), ('typing.get_type_hints().', 1), ('In', 1), ('common', 1), ('case', 1), ('where', 1), ('this', 1), ('is', 1), ('not', 1), ('required,', 1), ('cheaper', 1), ('store', 1), ('(since', 1), ('short', 1), ('strings', 1), ('interned', 1), ('interpreter)', 1), ('and', 1), ('make', 1), ('startup', 1), ('time', 1), ('faster.', 1), ('by', 2), ('at', 2), ('to', 2), ('are', 3), ('in', 3), ('annotations', 3), ('of', 4), ('the', 8)]\n",
      "Second most repeated word:  ('of', 4)\n"
     ]
    }
   ],
   "source": [
    "def word_count(str):\n",
    "    counts = dict()\n",
    "    words = str.split()\n",
    "\n",
    "    for word in words:\n",
    "        if word in counts:\n",
    "            counts[word] += 1\n",
    "        else:\n",
    "            counts[word] = 1\n",
    "\n",
    "    counts_x = sorted(counts.items(), key=lambda kv: kv[1])\n",
    "    print(counts_x)\n",
    "    print('Second most repeated word: ', counts_x[-2])\n",
    "\n",
    "string = ''' Both of these issues are fixed by postponing the evaluation of annotations. \n",
    "Instead of compiling code which executes expressions in annotations at their definition time, \n",
    "the compiler stores the annotation in a string form equivalent to the AST of the expression in question. \n",
    "If needed, annotations can be resolved at runtime using typing.get_type_hints(). \n",
    "In the common case where this is not required, the annotations are cheaper \n",
    "to store (since short strings are interned by the interpreter) and make startup time faster.'''\n",
    "\n",
    "word_count(string)"
   ]
  },
  {
   "cell_type": "markdown",
   "metadata": {},
   "source": [
    "#### 32. Write a Python program to remove spaces from a given string."
   ]
  },
  {
   "cell_type": "code",
   "execution_count": 73,
   "metadata": {},
   "outputs": [
    {
     "name": "stdout",
     "output_type": "stream",
     "text": [
      "Helloworld\n",
      "Hi\n"
     ]
    }
   ],
   "source": [
    "def remove_spaces(str1):\n",
    "    str1 = str1.replace(' ','')\n",
    "    return str1\n",
    "    \n",
    "print(remove_spaces(\"H e l l o  w o r l d\"))\n",
    "print(remove_spaces(\"H i\"))\n"
   ]
  },
  {
   "cell_type": "markdown",
   "metadata": {},
   "source": [
    "#### 33. Write a Python program to compute sum of digits of a given string."
   ]
  },
  {
   "cell_type": "code",
   "execution_count": 77,
   "metadata": {},
   "outputs": [
    {
     "name": "stdout",
     "output_type": "stream",
     "text": [
      "15\n",
      "10\n"
     ]
    }
   ],
   "source": [
    "def sum_dig(str1):\n",
    "    sum_digit = 0\n",
    "    for i in str1:\n",
    "        if i.isdigit() == True:\n",
    "            sum_digit = sum_digit + int(i)\n",
    "\n",
    "    return sum_digit\n",
    "     \n",
    "print(sum_dig(\"123abcd45\"))\n",
    "print(sum_dig(\"abcd1234\"))"
   ]
  },
  {
   "cell_type": "markdown",
   "metadata": {},
   "source": [
    "#### 34. Write a python program to print the initials of a name with last name in full"
   ]
  },
  {
   "cell_type": "code",
   "execution_count": 81,
   "metadata": {},
   "outputs": [
    {
     "name": "stdout",
     "output_type": "stream",
     "text": [
      "S.Sakpal\n",
      "S.G.Sakpal\n"
     ]
    }
   ],
   "source": [
    "def name(string): \n",
    "  \n",
    "    LIST = string.split() \n",
    "    new = \"\" \n",
    "  \n",
    "    for i in range(len(LIST)-1): \n",
    "        s = LIST[i] \n",
    "        new += (s[0].upper()+'.') \n",
    "          \n",
    "    new += LIST[-1].title() \n",
    "    return new  \n",
    "      \n",
    "print(name('Sachin Sakpal'))\n",
    "print(name('Sagar Ganesh Sakpal'))"
   ]
  },
  {
   "cell_type": "markdown",
   "metadata": {},
   "source": [
    "#### 35. Write a python program to sort the words in lexicographical order in Python"
   ]
  },
  {
   "cell_type": "code",
   "execution_count": 85,
   "metadata": {},
   "outputs": [
    {
     "name": "stdout",
     "output_type": "stream",
     "text": [
      "alphabetical\n",
      "example\n",
      "hello\n",
      "how\n",
      "in\n",
      "is\n",
      "manner\n",
      "sort\n",
      "the\n",
      "this\n",
      "to\n",
      "word\n"
     ]
    }
   ],
   "source": [
    "def sortLexo(my_string): \n",
    "  \n",
    "    words = my_string.split() \n",
    "    words.sort() \n",
    "  \n",
    "    for i in words: \n",
    "        print( i )\n",
    "        \n",
    "sortLexo(my_string)"
   ]
  },
  {
   "cell_type": "markdown",
   "metadata": {},
   "source": [
    "#### 36. Write a python program to sort words of sentence in ascending order."
   ]
  },
  {
   "cell_type": "code",
   "execution_count": 89,
   "metadata": {},
   "outputs": [
    {
     "name": "stdout",
     "output_type": "stream",
     "text": [
      "Don’t learning now stop\n",
      "Hello I'm Sachin\n"
     ]
    }
   ],
   "source": [
    "def sort_sentence(string):\n",
    "    words = string.split(\" \")\n",
    "    words.sort()\n",
    "    \n",
    "    sort = \" \".join(words) \n",
    "      \n",
    "    return sort \n",
    "\n",
    "string = \"Don’t stop learning now\"\n",
    "print(sort_sentence(string)) \n",
    "  \n",
    "Sentence = \"Hello I'm Sachin\"\n",
    "# Print the sortedSentence \n",
    "print(sort_sentence(Sentence)) "
   ]
  },
  {
   "cell_type": "markdown",
   "metadata": {},
   "source": [
    "#### 37. Write a python program to convert String to a List."
   ]
  },
  {
   "cell_type": "code",
   "execution_count": 91,
   "metadata": {},
   "outputs": [
    {
     "name": "stdout",
     "output_type": "stream",
     "text": [
      "['This', 'is', 'a', 'data', 'science', 'course']\n"
     ]
    }
   ],
   "source": [
    "def Convert(string):\n",
    "    LIST = list(string.split(\" \"))\n",
    "    return LIST \n",
    "       \n",
    "str1 = \"This is a data science course\"\n",
    "print(Convert(str1))"
   ]
  },
  {
   "cell_type": "markdown",
   "metadata": {},
   "source": [
    "#### 38. Write a python program to check for URL in a String"
   ]
  },
  {
   "cell_type": "code",
   "execution_count": 92,
   "metadata": {},
   "outputs": [
    {
     "name": "stdout",
     "output_type": "stream",
     "text": [
      "Urls:  ['https://www.linkedin.com/in/sachin-sakpal-a3027aa6/']\n"
     ]
    }
   ],
   "source": [
    "import re \n",
    "  \n",
    "def Find(string):\n",
    "    regex = r\"(?i)\\b((?:https?://|www\\d{0,3}[.]|[a-z0-9.\\-]+[.][a-z]{2,4}/)(?:[^\\s()<>]+|\\(([^\\s()<>]+|(\\([^\\s()<>]+\\)))*\\))+(?:\\(([^\\s()<>]+|(\\([^\\s()<>]+\\)))*\\)|[^\\s`!()\\[\\]{};:'\\\".,<>?«»“”‘’]))\"\n",
    "    url = re.findall(regex,string)       \n",
    "    return [x[0] for x in url] \n",
    "\n",
    "string = 'My Profile: https://www.linkedin.com/in/sachin-sakpal-a3027aa6/'\n",
    "print(\"Urls: \", Find(string))"
   ]
  },
  {
   "cell_type": "markdown",
   "metadata": {},
   "source": [
    "#### 39. Write a Python program to check the validity of a Password.\n",
    "conditions for password validation :    \n",
    "1. Minimum 8 characters.\n",
    "2. The alphabets must be between [a-z]\n",
    "3. At least one alphabet should be of Upper Case [A-Z]\n",
    "4. At least 1 number or digit between [0-9].\n",
    "5. At least 1 character from [ _ or @ or $ ]."
   ]
  },
  {
   "cell_type": "code",
   "execution_count": 94,
   "metadata": {},
   "outputs": [
    {
     "name": "stdout",
     "output_type": "stream",
     "text": [
      "Valid Password\n"
     ]
    }
   ],
   "source": [
    "import re \n",
    "password = \"R@m@_f0rtu9e$\"\n",
    "flag = 0\n",
    "while True:   \n",
    "    if (len(password)<8): \n",
    "        flag = -1\n",
    "        break\n",
    "    elif not re.search(\"[a-z]\", password): \n",
    "        flag = -1\n",
    "        break\n",
    "    elif not re.search(\"[A-Z]\", password): \n",
    "        flag = -1\n",
    "        break\n",
    "    elif not re.search(\"[0-9]\", password): \n",
    "        flag = -1\n",
    "        break\n",
    "    elif not re.search(\"[_@$]\", password): \n",
    "        flag = -1\n",
    "        break\n",
    "    elif re.search(\"\\s\", password): \n",
    "        flag = -1\n",
    "        break\n",
    "    else: \n",
    "        flag = 0\n",
    "        print(\"Valid Password\") \n",
    "        break\n",
    "  \n",
    "if flag ==-1: \n",
    "    print(\"Not a Valid Password\") "
   ]
  },
  {
   "cell_type": "markdown",
   "metadata": {},
   "source": [
    "#### 40. Write a Python program to check if two strings are anagram or not."
   ]
  },
  {
   "cell_type": "code",
   "execution_count": 100,
   "metadata": {},
   "outputs": [
    {
     "name": "stdout",
     "output_type": "stream",
     "text": [
      "Two strings are:  listen and silent\n",
      "The strings are anagrams.\n",
      "Two strings are:  balaji and lalaji\n",
      "The strings aren't anagrams.\n"
     ]
    }
   ],
   "source": [
    "def check(s1, s2):\n",
    "    if(sorted(s1)== sorted(s2)):\n",
    "        print(\"The strings are anagrams.\")\n",
    "    else:\n",
    "        print(\"The strings aren't anagrams.\")\n",
    "        \n",
    "s1 = 'listen'\n",
    "s2 = 'silent' \n",
    "print('Two strings are: ', s1,'and', s2)\n",
    "check(s1, s2)\n",
    "s3 = 'balaji'\n",
    "s4 = 'lalaji'\n",
    "print('Two strings are: ', s3,'and', s4)\n",
    "check(s3, s4)"
   ]
  },
  {
   "cell_type": "markdown",
   "metadata": {},
   "source": [
    "#### 41. Write a python program to find the k most frequent words from data set"
   ]
  },
  {
   "cell_type": "code",
   "execution_count": 103,
   "metadata": {},
   "outputs": [
    {
     "name": "stdout",
     "output_type": "stream",
     "text": [
      "[('Geeks', 5), ('to', 4), ('and', 4), ('well', 3)]\n"
     ]
    }
   ],
   "source": [
    "from collections import Counter \n",
    "  \n",
    "data_set = '''\n",
    "Welcome to the world of Geeks \" \\ \n",
    "\"This portal has been created to provide well written well \n",
    "\"thought and well explained solutions for selected questions \n",
    "\"If you like Geeks for Geeks and would like to contribute \n",
    "\"here is your chance You can write article and mail your article \n",
    "\" to contribute at geeksforgeeks org See your article appearing on \n",
    "\"the Geeks for Geeks main page and help thousands of other Geeks.\n",
    "'''\n",
    "  \n",
    "split_it = data_set.split() \n",
    "  \n",
    "Counter = Counter(split_it) \n",
    "  \n",
    "most_occur = Counter.most_common(4) \n",
    "  \n",
    "print(most_occur)"
   ]
  },
  {
   "cell_type": "code",
   "execution_count": null,
   "metadata": {},
   "outputs": [],
   "source": []
  }
 ],
 "metadata": {
  "kernelspec": {
   "display_name": "Python 3",
   "language": "python",
   "name": "python3"
  },
  "language_info": {
   "codemirror_mode": {
    "name": "ipython",
    "version": 3
   },
   "file_extension": ".py",
   "mimetype": "text/x-python",
   "name": "python",
   "nbconvert_exporter": "python",
   "pygments_lexer": "ipython3",
   "version": "3.7.4"
  }
 },
 "nbformat": 4,
 "nbformat_minor": 2
}
